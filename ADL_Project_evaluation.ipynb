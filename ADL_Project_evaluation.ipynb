{
  "nbformat": 4,
  "nbformat_minor": 0,
  "metadata": {
    "colab": {
      "provenance": []
    },
    "kernelspec": {
      "name": "python3",
      "display_name": "Python 3"
    },
    "language_info": {
      "name": "python"
    }
  },
  "cells": [
    {
      "cell_type": "code",
      "execution_count": 1,
      "metadata": {
        "id": "WOkYSbvW-arw"
      },
      "outputs": [],
      "source": [
        "import torch\n",
        "import numpy as np\n",
        "from matplotlib import pyplot as plt\n",
        "import torchvision\n",
        "import torch\n",
        "from torchvision.datasets import ImageFolder\n",
        "from torch.utils.data import DataLoader\n",
        "\n",
        "\n",
        "import torch\n",
        "import torch.nn as nn\n",
        "import torch.nn.functional as F\n",
        "import torch.optim as optim\n",
        "import torchvision.models as models\n",
        "import os\n",
        "from sklearn.metrics import confusion_matrix\n",
        "import matplotlib.pyplot as plt\n",
        "\n",
        "import time\n",
        "import os\n",
        "import copy"
      ]
    },
    {
      "cell_type": "code",
      "source": [
        "from google.colab import drive\n",
        "drive.mount('/content/drive')"
      ],
      "metadata": {
        "colab": {
          "base_uri": "https://localhost:8080/"
        },
        "id": "CJwv2vIS-lQw",
        "outputId": "1bc006a9-8e49-43fa-f6dc-c23a9650c326"
      },
      "execution_count": 2,
      "outputs": [
        {
          "output_type": "stream",
          "name": "stdout",
          "text": [
            "Mounted at /content/drive\n"
          ]
        }
      ]
    },
    {
      "cell_type": "code",
      "source": [
        "path = '/content/drive/MyDrive/LTU (1)/ADL_share/Project/data'\n",
        "\n",
        "import torchvision.transforms as transforms\n",
        "\n",
        "transforms_train = transforms.Compose([\n",
        "    transforms.RandomResizedCrop(224),\n",
        "    transforms.RandomHorizontalFlip(),\n",
        "    transforms.ToTensor(),\n",
        "    transforms.Normalize(mean=[0.485, 0.456, 0.406], std=[0.229, 0.224, 0.225])\n",
        "])\n",
        "\n",
        "transforms_val = transforms.Compose([\n",
        "      transforms.Resize(256),\n",
        "      transforms.CenterCrop(224),\n",
        "      transforms.ToTensor(),\n",
        "      transforms.Normalize([0.485, 0.456, 0.406], [0.229, 0.224, 0.225])\n",
        "])\n",
        "\n",
        "train_dataset = ImageFolder(root=path+'/train', transform=transforms_train)\n",
        "val_dataset = ImageFolder(root=path+'/val', transform=transforms_val)\n",
        "test_dataset = ImageFolder(root=path+'/test', transform=transforms_val)\n",
        "\n",
        "train_loader = DataLoader(train_dataset, batch_size=8, shuffle=True)\n",
        "val_loader = DataLoader(val_dataset, batch_size=8, shuffle=True)\n",
        "test_loader = DataLoader(test_dataset, batch_size=8, shuffle=True)\n",
        "\n",
        "dataloaders = {\n",
        "    'train': train_loader,\n",
        "    'val': val_loader,\n",
        "    'test': test_loader\n",
        "}"
      ],
      "metadata": {
        "id": "vs8xsVfr-m51"
      },
      "execution_count": 3,
      "outputs": []
    },
    {
      "cell_type": "markdown",
      "source": [
        "# AlexNet 30 epochs"
      ],
      "metadata": {
        "id": "g9VO5P2s_GmB"
      }
    },
    {
      "cell_type": "code",
      "source": [
        "path_model = '/content/drive/MyDrive/LTU (1)/ADL_share/Project/models'\n",
        "\n",
        "model_ft = models.alexnet(pretrained=True)\n",
        "num_ftrs = model_ft.classifier[6].in_features\n",
        "\n",
        "model_ft.classifier[6] = nn.Linear(num_ftrs,2)\n",
        "input_size = 224\n",
        "\n",
        "model_ft.load_state_dict(torch.load(path_model+'/alexnet_finetuned2-no_addon-30epochs.pth', map_location=torch.device('cpu')))\n",
        "\n",
        "correct, total, f1 = 0, 0, 0\n",
        "with torch.no_grad():\n",
        "    for data in test_loader:\n",
        "        images, labels = data\n",
        "        outputs = model_ft(images)\n",
        "        _, predicted = torch.max(outputs.data, 1)\n",
        "        total += labels.size(0)\n",
        "        f1 += f1_score(labels.data, predicted)\n",
        "        correct += (predicted == labels).sum().item()\n",
        "print(f'Accuracy on test set: {100 * correct / total} %')\n",
        "print(f'f1: {f1 / len(test_loader)}')"
      ],
      "metadata": {
        "colab": {
          "base_uri": "https://localhost:8080/"
        },
        "id": "M4V3EwdD-r6o",
        "outputId": "30fe4282-d544-4742-b2b8-083ca0b66c25"
      },
      "execution_count": 25,
      "outputs": [
        {
          "output_type": "stream",
          "name": "stderr",
          "text": [
            "/usr/local/lib/python3.10/dist-packages/torchvision/models/_utils.py:208: UserWarning: The parameter 'pretrained' is deprecated since 0.13 and may be removed in the future, please use 'weights' instead.\n",
            "  warnings.warn(\n",
            "/usr/local/lib/python3.10/dist-packages/torchvision/models/_utils.py:223: UserWarning: Arguments other than a weight enum or `None` for 'weights' are deprecated since 0.13 and may be removed in the future. The current behavior is equivalent to passing `weights=AlexNet_Weights.IMAGENET1K_V1`. You can also use `weights=AlexNet_Weights.DEFAULT` to get the most up-to-date weights.\n",
            "  warnings.warn(msg)\n"
          ]
        },
        {
          "output_type": "stream",
          "name": "stdout",
          "text": [
            "Accuracy on test set: 92.78846153846153 %\n",
            "f1: 0.9381210669672203\n"
          ]
        }
      ]
    },
    {
      "cell_type": "markdown",
      "source": [
        "# AlexNet with deeper classifier 30 epochs"
      ],
      "metadata": {
        "id": "zxooAohP_J_P"
      }
    },
    {
      "cell_type": "code",
      "source": [
        "path_model = '/content/drive/MyDrive/LTU (1)/ADL_share/Project/models'\n",
        "\n",
        "activation = nn.LeakyReLU(0.1)\n",
        "dropout = nn.Dropout(0.5)\n",
        "\n",
        "model_ft = models.alexnet(pretrained=True)\n",
        "num_ftrs = model_ft.classifier[6].in_features\n",
        "\n",
        "classifier_addon = nn.Sequential(\n",
        "    nn.Linear(2048,1024),\n",
        "    activation,\n",
        "    dropout,\n",
        "    nn.Linear(1024,512),\n",
        "    activation,\n",
        "    dropout,\n",
        "    nn.Linear(512,256),\n",
        "    activation,\n",
        "    dropout,\n",
        "    nn.Linear(256,2)\n",
        ")\n",
        "\n",
        "model_ft.classifier[6] = nn.Linear(num_ftrs,2048)\n",
        "model_ft.classifier.append(classifier_addon)\n",
        "\n",
        "input_size = 224\n",
        "\n",
        "model_ft.load_state_dict(torch.load(path_model+'/alexnet_finetuned2-addon-30epochs.pth', map_location=torch.device('cpu')))\n",
        "\n",
        "correct, total, f1 = 0, 0, 0\n",
        "with torch.no_grad():\n",
        "    for data in test_loader:\n",
        "        images, labels = data\n",
        "        outputs = model_ft(images)\n",
        "        _, predicted = torch.max(outputs.data, 1)\n",
        "        total += labels.size(0)\n",
        "        f1 += f1_score(labels.data, predicted)\n",
        "        correct += (predicted == labels).sum().item()\n",
        "print(f'Accuracy on test set: {100 * correct / total} %')\n",
        "print(f'f1: {f1 / len(test_loader)}')"
      ],
      "metadata": {
        "colab": {
          "base_uri": "https://localhost:8080/"
        },
        "id": "5-kLr9zp_Ptk",
        "outputId": "76f036c7-9396-4d17-9b28-a939ce24b75b"
      },
      "execution_count": 26,
      "outputs": [
        {
          "output_type": "stream",
          "name": "stderr",
          "text": [
            "/usr/local/lib/python3.10/dist-packages/torchvision/models/_utils.py:208: UserWarning: The parameter 'pretrained' is deprecated since 0.13 and may be removed in the future, please use 'weights' instead.\n",
            "  warnings.warn(\n",
            "/usr/local/lib/python3.10/dist-packages/torchvision/models/_utils.py:223: UserWarning: Arguments other than a weight enum or `None` for 'weights' are deprecated since 0.13 and may be removed in the future. The current behavior is equivalent to passing `weights=AlexNet_Weights.IMAGENET1K_V1`. You can also use `weights=AlexNet_Weights.DEFAULT` to get the most up-to-date weights.\n",
            "  warnings.warn(msg)\n"
          ]
        },
        {
          "output_type": "stream",
          "name": "stdout",
          "text": [
            "Accuracy on test set: 92.62820512820512 %\n",
            "f1: 0.9350577485192864\n"
          ]
        }
      ]
    },
    {
      "cell_type": "markdown",
      "source": [
        "#ResNet 18 fine-tuned last layer 15 epochs"
      ],
      "metadata": {
        "id": "1Y5FQFSd_T3B"
      }
    },
    {
      "cell_type": "code",
      "source": [
        "from sklearn.metrics import f1_score\n",
        "\n",
        "path_model = '/content/drive/MyDrive/LTU (1)/ADL_share/Project/models'\n",
        "\n",
        "model_ft = models.resnet18(pretrained=True)\n",
        "\n",
        "num_ftrs = model_ft.fc.in_features\n",
        "model_ft.fc = nn.Linear(num_ftrs, 2)\n",
        "input_size = 224\n",
        "\n",
        "model_ft.load_state_dict(torch.load(path_model+'/resnet_finetuned.pth', map_location=torch.device('cpu')))\n",
        "\n",
        "correct, total, f1 = 0, 0, 0\n",
        "with torch.no_grad():\n",
        "    for data in test_loader:\n",
        "        images, labels = data\n",
        "        outputs = model_ft(images)\n",
        "        _, predicted = torch.max(outputs.data, 1)\n",
        "        total += labels.size(0)\n",
        "        f1 += f1_score(labels.data, predicted)\n",
        "        correct += (predicted == labels).sum().item()\n",
        "print(f'Accuracy on test set: {100 * correct / total} %')\n",
        "print(f'f1: {f1 / len(test_loader)}')"
      ],
      "metadata": {
        "colab": {
          "base_uri": "https://localhost:8080/"
        },
        "id": "kd7w6bu7_YF_",
        "outputId": "79ee6751-23e0-4b2c-e659-99654ba3c152"
      },
      "execution_count": 28,
      "outputs": [
        {
          "output_type": "stream",
          "name": "stderr",
          "text": [
            "/usr/local/lib/python3.10/dist-packages/torchvision/models/_utils.py:208: UserWarning: The parameter 'pretrained' is deprecated since 0.13 and may be removed in the future, please use 'weights' instead.\n",
            "  warnings.warn(\n",
            "/usr/local/lib/python3.10/dist-packages/torchvision/models/_utils.py:223: UserWarning: Arguments other than a weight enum or `None` for 'weights' are deprecated since 0.13 and may be removed in the future. The current behavior is equivalent to passing `weights=ResNet18_Weights.IMAGENET1K_V1`. You can also use `weights=ResNet18_Weights.DEFAULT` to get the most up-to-date weights.\n",
            "  warnings.warn(msg)\n"
          ]
        },
        {
          "output_type": "stream",
          "name": "stdout",
          "text": [
            "Accuracy on test set: 94.23076923076923 %\n",
            "f1: 0.9504628562320866\n"
          ]
        }
      ]
    },
    {
      "cell_type": "code",
      "source": [
        "print(len(test_loader))"
      ],
      "metadata": {
        "colab": {
          "base_uri": "https://localhost:8080/"
        },
        "id": "073P6YcIM4Pp",
        "outputId": "07b5f904-026a-4f43-c527-954dc7cb1375"
      },
      "execution_count": 21,
      "outputs": [
        {
          "output_type": "stream",
          "name": "stdout",
          "text": [
            "78\n"
          ]
        }
      ]
    },
    {
      "cell_type": "code",
      "source": [
        "acc = [73, 92.6, 92.8, 94.2]\n",
        "labels = ['CNN', 'AlexNet addon', 'AlexNet standard', 'ResNet-18']\n",
        "ax = plt.gca()\n",
        "ax.set_ylim([60, 100])\n",
        "plt.title('Accuracy')\n",
        "\n",
        "plt.bar(labels, acc)"
      ],
      "metadata": {
        "colab": {
          "base_uri": "https://localhost:8080/",
          "height": 469
        },
        "id": "m9hFB4msE8IK",
        "outputId": "5181f469-efc8-4760-eb5e-4f2c06b24c09"
      },
      "execution_count": 17,
      "outputs": [
        {
          "output_type": "execute_result",
          "data": {
            "text/plain": [
              "<BarContainer object of 4 artists>"
            ]
          },
          "metadata": {},
          "execution_count": 17
        },
        {
          "output_type": "display_data",
          "data": {
            "text/plain": [
              "<Figure size 640x480 with 1 Axes>"
            ],
            "image/png": "[encoded data removed]"
          },
          "metadata": {}
        }
      ]
    },
    {
      "cell_type": "code",
      "source": [
        "f1 = [0.935, 0.938, 0.950]\n",
        "labels = ['AlexNet addon', 'AlexNet standard', 'ResNet-18']\n",
        "ax = plt.gca()\n",
        "ax.set_ylim([0.85, 1.0])\n",
        "plt.title('f1')\n",
        "\n",
        "plt.bar(labels , f1)"
      ],
      "metadata": {
        "colab": {
          "base_uri": "https://localhost:8080/",
          "height": 469
        },
        "id": "iEYGMytPQ9Mg",
        "outputId": "d45e753d-a306-4749-aee3-d69ed4136385"
      },
      "execution_count": 30,
      "outputs": [
        {
          "output_type": "execute_result",
          "data": {
            "text/plain": [
              "<BarContainer object of 3 artists>"
            ]
          },
          "metadata": {},
          "execution_count": 30
        },
        {
          "output_type": "display_data",
          "data": {
            "text/plain": [
              "<Figure size 640x480 with 1 Axes>"
            ],
            "image/png": "[encoded data removed]"
          },
          "metadata": {}
        }
      ]
    }
  ]
}