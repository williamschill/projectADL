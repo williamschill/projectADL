{
  "nbformat": 4,
  "nbformat_minor": 0,
  "metadata": {
    "colab": {
      "provenance": [],
      "gpuType": "T4"
    },
    "kernelspec": {
      "name": "python3",
      "display_name": "Python 3"
    },
    "language_info": {
      "name": "python"
    },
    "accelerator": "GPU",
    "gpuClass": "standard"
  },
  "cells": [
    {
      "cell_type": "code",
      "execution_count": null,
      "metadata": {
        "id": "VLBu82YZsGoh"
      },
      "outputs": [],
      "source": [
        "import torch\n",
        "import numpy as np\n",
        "from matplotlib import pyplot as plt\n",
        "import torchvision\n",
        "import torch\n",
        "from torchvision.datasets import ImageFolder\n",
        "from torch.utils.data import DataLoader\n",
        "\n",
        "\n",
        "import torch\n",
        "import torch.nn as nn\n",
        "import torch.nn.functional as F\n",
        "import torch.optim as optim\n",
        "import torchvision.models as models\n",
        "import os\n",
        "from sklearn.metrics import confusion_matrix\n",
        "import matplotlib.pyplot as plt\n",
        "\n",
        "import time\n",
        "import os\n",
        "import copy"
      ]
    },
    {
      "cell_type": "code",
      "source": [
        "from google.colab import drive\n",
        "drive.mount('/content/drive')"
      ],
      "metadata": {
        "colab": {
          "base_uri": "https://localhost:8080/"
        },
        "id": "1E9Tf3q8sIqW",
        "outputId": "df584453-107e-4188-a986-c85612405ba5"
      },
      "execution_count": null,
      "outputs": [
        {
          "output_type": "stream",
          "name": "stdout",
          "text": [
            "Drive already mounted at /content/drive; to attempt to forcibly remount, call drive.mount(\"/content/drive\", force_remount=True).\n"
          ]
        }
      ]
    },
    {
      "cell_type": "code",
      "source": [
        "path = '/content/drive/MyDrive/LTU (1)/ADL_share/Project/data'\n",
        "\n",
        "import torchvision.transforms as transforms\n",
        "\n",
        "transforms = transforms.Compose([\n",
        "    transforms.RandomResizedCrop(224),\n",
        "    transforms.RandomHorizontalFlip(),\n",
        "    transforms.ToTensor(),\n",
        "    transforms.Normalize(mean=[0.485, 0.456, 0.406], std=[0.229, 0.224, 0.225])\n",
        "])\n",
        "\n",
        "train_dataset = ImageFolder(root=path+'/train', transform=transforms)\n",
        "val_dataset = ImageFolder(root=path+'/val', transform=transforms)\n",
        "test_dataset = ImageFolder(root=path+'/test', transform=transforms)\n",
        "\n",
        "train_loader = DataLoader(train_dataset, batch_size=8, shuffle=True)\n",
        "val_loader = DataLoader(val_dataset, batch_size=8, shuffle=True)\n",
        "test_loader = DataLoader(test_dataset, batch_size=8, shuffle=True)\n",
        "\n",
        "dataloaders = {\n",
        "    'train': train_loader,\n",
        "    'val': val_loader,\n",
        "    'test': test_loader\n",
        "}"
      ],
      "metadata": {
        "id": "ETBeF0QKsXo_"
      },
      "execution_count": null,
      "outputs": []
    },
    {
      "cell_type": "code",
      "source": [
        "def train_model(model, dataloaders, criterion, optimizer, num_epochs, is_inception=False):\n",
        "    since = time.time()\n",
        "\n",
        "    val_acc_history = []\n",
        "\n",
        "    best_model_wts = copy.deepcopy(model.state_dict())\n",
        "    best_acc = 0.0\n",
        "\n",
        "    for epoch in range(num_epochs):\n",
        "        print('Epoch {}/{}'.format(epoch, num_epochs - 1))\n",
        "        print('-' * 10)\n",
        "\n",
        "        for phase in ['train', 'val']:\n",
        "            if phase == 'train':\n",
        "                model.train()\n",
        "            else:\n",
        "                model.eval()\n",
        "\n",
        "            running_loss = 0.0\n",
        "            running_corrects = 0\n",
        "\n",
        "            for inputs, labels in dataloaders[phase]:\n",
        "                inputs = inputs.to(device)\n",
        "                labels = labels.to(device)\n",
        "\n",
        "                optimizer.zero_grad()\n",
        "\n",
        "                with torch.set_grad_enabled(phase == 'train'):\n",
        "                    outputs = model(inputs)\n",
        "                    loss = criterion(outputs, labels)\n",
        "\n",
        "                    _, preds = torch.max(outputs, 1)\n",
        "\n",
        "                    if phase == 'train':\n",
        "                        loss.backward()\n",
        "                        optimizer.step()\n",
        "\n",
        "                running_loss += loss.item() * inputs.size(0)\n",
        "                running_corrects += torch.sum(preds == labels.data)\n",
        "\n",
        "            epoch_loss = running_loss / len(dataloaders[phase].dataset)\n",
        "            epoch_acc = running_corrects.double() / len(dataloaders[phase].dataset)\n",
        "\n",
        "            print('{} Loss: {:.4f} Acc: {:.4f}'.format(phase, epoch_loss, epoch_acc))\n",
        "\n",
        "            if phase == 'val' and epoch_acc > best_acc:\n",
        "                best_acc = epoch_acc\n",
        "                best_model_wts = copy.deepcopy(model.state_dict())\n",
        "            if phase == 'val':\n",
        "                val_acc_history.append(epoch_acc)\n",
        "\n",
        "        print()\n",
        "\n",
        "    time_elapsed = time.time() - since\n",
        "    print('Training complete in {:.0f}m {:.0f}s'.format(time_elapsed // 60, time_elapsed % 60))\n",
        "    print('Best val Acc: {:4f}'.format(best_acc))\n",
        "\n",
        "    model.load_state_dict(best_model_wts)\n",
        "    return model, val_acc_history"
      ],
      "metadata": {
        "id": "GNp58M10CT9t"
      },
      "execution_count": null,
      "outputs": []
    },
    {
      "cell_type": "code",
      "source": [
        "num_classes = 2\n",
        "batch_size = 8\n",
        "\n",
        "feature_extract = False\n",
        "\n",
        "model_ft = models.alexnet(pretrained=True)\n",
        "\n",
        "num_ftrs = model_ft.classifier[6].in_features\n",
        "model_ft = models.alexnet(pretrained=True)\n",
        "num_ftrs = model_ft.classifier[6].in_features\n",
        "num_ftrs = model_ft.classifier[6].in_features\n",
        "model_ft.classifier[6] = nn.Linear(num_ftrs,2048)\n",
        "model_ft.classifier.append(nn.ReLU(inplace=True))\n",
        "model_ft.classifier.append(nn.Dropout(0.5))\n",
        "model_ft.classifier.append(nn.Linear(2048,1024))\n",
        "model_ft.classifier.append(nn.ReLU(inplace=True))\n",
        "model_ft.classifier.append(nn.Dropout(0.5))\n",
        "model_ft.classifier.append(nn.Linear(1024,512))\n",
        "model_ft.classifier.append(nn.ReLU(inplace=True))\n",
        "model_ft.classifier.append(nn.Dropout(0.5))\n",
        "model_ft.classifier.append(nn.Linear(512,256))\n",
        "model_ft.classifier.append(nn.ReLU(inplace=True))\n",
        "model_ft.classifier.append(nn.Dropout(0.5))\n",
        "model_ft.classifier.append(nn.Linear(256,2))\n",
        "input_size = 224\n",
        "\n",
        "\n",
        "\n",
        "\n",
        "\n",
        "'''\n",
        "model_ft.classifier[6] = nn.Linear(num_ftrs,2048)\n",
        "model_ft.classifier.append(nn.ReLU(inplace=True))\n",
        "model_ft.classifier.append(nn.Dropout(0.5))\n",
        "model_ft.classifier.append(nn.Linear(2048,256))\n",
        "model_ft.classifier.append(nn.ReLU(inplace=True))\n",
        "model_ft.classifier.append(nn.Dropout(0.5))\n",
        "model_ft.classifier.append(nn.Linear(256,2))\n",
        "'''\n",
        "'''\n",
        "model_ft.classifier  = nn.Sequential(\n",
        "            nn.Dropout(),\n",
        "            nn.Linear(256 * 6 * 6, 4096),\n",
        "            nn.ReLU(inplace=True),\n",
        "            nn.Dropout(),\n",
        "            nn.Linear(4096, 4096),\n",
        "            nn.ReLU(inplace=True),\n",
        "            nn.Linear(num_ftrs,2048),\n",
        "            nn.ReLU(inplace=True),\n",
        "            nn.Dropout(0.5),\n",
        "            nn.Linear(2048,256),\n",
        "            nn.ReLU(inplace=True),\n",
        "            nn.Dropout(0.2),\n",
        "            nn.Linear(256,2)\n",
        ")\n",
        "'''\n",
        "\n",
        "\n",
        "\n",
        "input_size = 224\n",
        "\n",
        "\n",
        "print(model_ft)"
      ],
      "metadata": {
        "colab": {
          "base_uri": "https://localhost:8080/"
        },
        "id": "aJ1EuthcCUqN",
        "outputId": "12d2b0a0-b251-4aaa-8de0-09cfbaace8ed"
      },
      "execution_count": null,
      "outputs": [
        {
          "output_type": "stream",
          "name": "stdout",
          "text": [
            "AlexNet(\n",
            "  (features): Sequential(\n",
            "    (0): Conv2d(3, 64, kernel_size=(11, 11), stride=(4, 4), padding=(2, 2))\n",
            "    (1): ReLU(inplace=True)\n",
            "    (2): MaxPool2d(kernel_size=3, stride=2, padding=0, dilation=1, ceil_mode=False)\n",
            "    (3): Conv2d(64, 192, kernel_size=(5, 5), stride=(1, 1), padding=(2, 2))\n",
            "    (4): ReLU(inplace=True)\n",
            "    (5): MaxPool2d(kernel_size=3, stride=2, padding=0, dilation=1, ceil_mode=False)\n",
            "    (6): Conv2d(192, 384, kernel_size=(3, 3), stride=(1, 1), padding=(1, 1))\n",
            "    (7): ReLU(inplace=True)\n",
            "    (8): Conv2d(384, 256, kernel_size=(3, 3), stride=(1, 1), padding=(1, 1))\n",
            "    (9): ReLU(inplace=True)\n",
            "    (10): Conv2d(256, 256, kernel_size=(3, 3), stride=(1, 1), padding=(1, 1))\n",
            "    (11): ReLU(inplace=True)\n",
            "    (12): MaxPool2d(kernel_size=3, stride=2, padding=0, dilation=1, ceil_mode=False)\n",
            "  )\n",
            "  (avgpool): AdaptiveAvgPool2d(output_size=(6, 6))\n",
            "  (classifier): Sequential(\n",
            "    (0): Dropout(p=0.5, inplace=False)\n",
            "    (1): Linear(in_features=9216, out_features=4096, bias=True)\n",
            "    (2): ReLU(inplace=True)\n",
            "    (3): Dropout(p=0.5, inplace=False)\n",
            "    (4): Linear(in_features=4096, out_features=4096, bias=True)\n",
            "    (5): ReLU(inplace=True)\n",
            "    (6): Linear(in_features=4096, out_features=2048, bias=True)\n",
            "    (7): ReLU(inplace=True)\n",
            "    (8): Dropout(p=0.5, inplace=False)\n",
            "    (9): Linear(in_features=2048, out_features=1024, bias=True)\n",
            "    (10): ReLU(inplace=True)\n",
            "    (11): Dropout(p=0.5, inplace=False)\n",
            "    (12): Linear(in_features=1024, out_features=512, bias=True)\n",
            "    (13): ReLU(inplace=True)\n",
            "    (14): Dropout(p=0.5, inplace=False)\n",
            "    (15): Linear(in_features=512, out_features=256, bias=True)\n",
            "    (16): ReLU(inplace=True)\n",
            "    (17): Dropout(p=0.5, inplace=False)\n",
            "    (18): Linear(in_features=256, out_features=2, bias=True)\n",
            "  )\n",
            ")\n"
          ]
        }
      ]
    },
    {
      "cell_type": "code",
      "source": [
        "device = torch.device(\"cuda:0\" if torch.cuda.is_available() else \"cpu\")\n",
        "\n",
        "model_ft = model_ft.to(device)\n",
        "\n",
        "params_to_update = model_ft.parameters()\n",
        "print(\"Params to learn:\")\n",
        "if feature_extract:\n",
        "    params_to_update = []\n",
        "    for name,param in model_ft.named_parameters():\n",
        "        if param.requires_grad == True:\n",
        "            params_to_update.append(param)\n",
        "            print(\"\\t\",name)\n",
        "else:\n",
        "    for name,param in model_ft.named_parameters():\n",
        "        if param.requires_grad == True:\n",
        "            print(\"\\t\",name)\n",
        "'''\n",
        "params_to_update = []\n",
        "for name,param in model_ft.named_parameters():\n",
        "        if param.requires_grad == True and 'classifier' in name:\n",
        "            params_to_update.append(param)\n",
        "            print(\"\\t\",name)\n",
        "'''\n",
        "\n",
        "optimizer_ft = optim.Adam(params_to_update, lr=0.0001)"
      ],
      "metadata": {
        "colab": {
          "base_uri": "https://localhost:8080/"
        },
        "id": "ZOeqN1OwCW5p",
        "outputId": "41d44450-3b7e-4ce8-cd1f-97916676c363"
      },
      "execution_count": null,
      "outputs": [
        {
          "output_type": "stream",
          "name": "stdout",
          "text": [
            "Params to learn:\n",
            "\t features.0.weight\n",
            "\t features.0.bias\n",
            "\t features.3.weight\n",
            "\t features.3.bias\n",
            "\t features.6.weight\n",
            "\t features.6.bias\n",
            "\t features.8.weight\n",
            "\t features.8.bias\n",
            "\t features.10.weight\n",
            "\t features.10.bias\n",
            "\t classifier.1.weight\n",
            "\t classifier.1.bias\n",
            "\t classifier.4.weight\n",
            "\t classifier.4.bias\n",
            "\t classifier.6.weight\n",
            "\t classifier.6.bias\n",
            "\t classifier.9.weight\n",
            "\t classifier.9.bias\n",
            "\t classifier.12.weight\n",
            "\t classifier.12.bias\n",
            "\t classifier.15.weight\n",
            "\t classifier.15.bias\n",
            "\t classifier.18.weight\n",
            "\t classifier.18.bias\n"
          ]
        }
      ]
    },
    {
      "cell_type": "code",
      "source": [
        "criterion = nn.CrossEntropyLoss()\n",
        "num_epochs = 15\n",
        "\n",
        "model_ft, hist = train_model(model_ft,\n",
        "                             dataloaders,\n",
        "                             criterion,\n",
        "                             optimizer_ft,\n",
        "                             num_epochs=num_epochs)"
      ],
      "metadata": {
        "colab": {
          "base_uri": "https://localhost:8080/"
        },
        "id": "AexZtZN4Cqpf",
        "outputId": "d1df2865-4d1b-4a54-91a0-c93b43c82946"
      },
      "execution_count": null,
      "outputs": [
        {
          "output_type": "stream",
          "name": "stdout",
          "text": [
            "Epoch 0/14\n",
            "----------\n",
            "train Loss: 0.3559 Acc: 0.8349\n",
            "val Loss: 0.7457 Acc: 0.6875\n",
            "\n",
            "Epoch 1/14\n",
            "----------\n",
            "train Loss: 0.2780 Acc: 0.8900\n",
            "val Loss: 0.9499 Acc: 0.6250\n",
            "\n",
            "Epoch 2/14\n",
            "----------\n",
            "train Loss: 0.2546 Acc: 0.8995\n",
            "val Loss: 0.9473 Acc: 0.5625\n",
            "\n",
            "Epoch 3/14\n",
            "----------\n",
            "train Loss: 0.2285 Acc: 0.9139\n",
            "val Loss: 1.0676 Acc: 0.6250\n",
            "\n",
            "Epoch 4/14\n",
            "----------\n",
            "train Loss: 0.2142 Acc: 0.9176\n",
            "val Loss: 1.4556 Acc: 0.5625\n",
            "\n",
            "Epoch 5/14\n",
            "----------\n",
            "train Loss: 0.2215 Acc: 0.9135\n",
            "val Loss: 0.9449 Acc: 0.8750\n",
            "\n",
            "Epoch 6/14\n",
            "----------\n",
            "train Loss: 0.1963 Acc: 0.9264\n",
            "val Loss: 0.9626 Acc: 0.6875\n",
            "\n",
            "Epoch 7/14\n",
            "----------\n",
            "train Loss: 0.1943 Acc: 0.9273\n",
            "val Loss: 0.8995 Acc: 0.6875\n",
            "\n",
            "Epoch 8/14\n",
            "----------\n",
            "train Loss: 0.2183 Acc: 0.9218\n",
            "val Loss: 0.6049 Acc: 0.6250\n",
            "\n",
            "Epoch 9/14\n",
            "----------\n",
            "train Loss: 0.2059 Acc: 0.9225\n",
            "val Loss: 1.9237 Acc: 0.5000\n",
            "\n",
            "Epoch 10/14\n",
            "----------\n",
            "train Loss: 0.1817 Acc: 0.9317\n",
            "val Loss: 1.4694 Acc: 0.5625\n",
            "\n",
            "Epoch 11/14\n",
            "----------\n",
            "train Loss: 0.1979 Acc: 0.9296\n",
            "val Loss: 0.7283 Acc: 0.5625\n",
            "\n",
            "Epoch 12/14\n",
            "----------\n",
            "train Loss: 0.1882 Acc: 0.9293\n",
            "val Loss: 1.3630 Acc: 0.6875\n",
            "\n",
            "Epoch 13/14\n",
            "----------\n",
            "train Loss: 0.1864 Acc: 0.9367\n",
            "val Loss: 1.8254 Acc: 0.6875\n",
            "\n",
            "Epoch 14/14\n",
            "----------\n",
            "train Loss: 0.1924 Acc: 0.9317\n",
            "val Loss: 1.3983 Acc: 0.6250\n",
            "\n",
            "Training complete in 33m 13s\n",
            "Best val Acc: 0.875000\n"
          ]
        }
      ]
    },
    {
      "cell_type": "code",
      "source": [
        "torch.save(model_ft.state_dict(), './alexnet_finetuned2.pth')"
      ],
      "metadata": {
        "id": "Y8R85DRmCul7"
      },
      "execution_count": null,
      "outputs": []
    },
    {
      "cell_type": "code",
      "source": [
        "\n",
        "model_ft = models.alexnet(pretrained=True)\n",
        "num_ftrs = model_ft.classifier[6].in_features\n",
        "model_ft = models.alexnet(pretrained=True)\n",
        "num_ftrs = model_ft.classifier[6].in_features\n",
        "num_ftrs = model_ft.classifier[6].in_features\n",
        "model_ft.classifier[6] = nn.Linear(num_ftrs,2048)\n",
        "model_ft.classifier.append(nn.ReLU(inplace=True))\n",
        "model_ft.classifier.append(nn.Dropout(0.5))\n",
        "model_ft.classifier.append(nn.Linear(2048,1024))\n",
        "model_ft.classifier.append(nn.ReLU(inplace=True))\n",
        "model_ft.classifier.append(nn.Dropout(0.5))\n",
        "model_ft.classifier.append(nn.Linear(1024,512))\n",
        "model_ft.classifier.append(nn.ReLU(inplace=True))\n",
        "model_ft.classifier.append(nn.Dropout(0.5))\n",
        "model_ft.classifier.append(nn.Linear(512,256))\n",
        "model_ft.classifier.append(nn.ReLU(inplace=True))\n",
        "model_ft.classifier.append(nn.Dropout(0.5))\n",
        "model_ft.classifier.append(nn.Linear(256,2))\n",
        "input_size = 224\n",
        "\n",
        "model_ft.load_state_dict(torch.load('./alexnet_finetuned2.pth'))\n",
        "\n",
        "'''\n",
        "model_ft = models.alexnet(pretrained=True)\n",
        "\n",
        "num_ftrs = model_ft.classifier[6].in_features\n",
        "\n",
        "model_ft.classifier  = nn.Sequential(\n",
        "            nn.Dropout(),\n",
        "            nn.Linear(256 * 6 * 6, 4096),\n",
        "            nn.ReLU(inplace=True),\n",
        "            nn.Dropout(),\n",
        "            nn.Linear(4096, 4096),\n",
        "            nn.ReLU(inplace=True),\n",
        "            nn.Linear(num_ftrs,2048),\n",
        "            nn.ReLU(inplace=True),\n",
        "            nn.Dropout(0.5),\n",
        "            nn.Linear(2048,256),\n",
        "            nn.ReLU(inplace=True),\n",
        "            nn.Dropout(0.2),\n",
        "            nn.Linear(256,2)\n",
        ")\n",
        "\n",
        "model_ft.load_state_dict(torch.load('./alexnet_finetuned_onlyClassifier.pth'))\n",
        "'''\n"
      ],
      "metadata": {
        "colab": {
          "base_uri": "https://localhost:8080/",
          "height": 122
        },
        "id": "17vYf0o9CvVB",
        "outputId": "49a2cc3d-1912-4a60-85c2-056ba85716fe"
      },
      "execution_count": null,
      "outputs": [
        {
          "output_type": "execute_result",
          "data": {
            "text/plain": [
              "\"\\nmodel_ft = models.alexnet(pretrained=True)\\n\\nnum_ftrs = model_ft.classifier[6].in_features\\n\\nmodel_ft.classifier  = nn.Sequential(\\n            nn.Dropout(),\\n            nn.Linear(256 * 6 * 6, 4096),\\n            nn.ReLU(inplace=True),\\n            nn.Dropout(),\\n            nn.Linear(4096, 4096),\\n            nn.ReLU(inplace=True),\\n            nn.Linear(num_ftrs,2048),\\n            nn.ReLU(inplace=True),\\n            nn.Dropout(0.5),\\n            nn.Linear(2048,256),\\n            nn.ReLU(inplace=True),\\n            nn.Dropout(0.2),\\n            nn.Linear(256,2)\\n)\\n\\nmodel_ft.load_state_dict(torch.load('./alexnet_finetuned_onlyClassifier.pth'))\\n\""
            ],
            "application/vnd.google.colaboratory.intrinsic+json": {
              "type": "string"
            }
          },
          "metadata": {},
          "execution_count": 19
        }
      ]
    },
    {
      "cell_type": "code",
      "source": [
        "correct, total = 0, 0\n",
        "\n",
        "with torch.no_grad():\n",
        "    for data in test_loader:\n",
        "        images, labels = data\n",
        "        outputs = model_ft(images)\n",
        "        _, predicted = torch.max(outputs.data, 1)\n",
        "        total += labels.size(0)\n",
        "        correct += (predicted == labels).sum().item()\n",
        "print(f'Accuracy on test set: {100 * correct // total} %')"
      ],
      "metadata": {
        "id": "cNNjEs9ICxZM",
        "colab": {
          "base_uri": "https://localhost:8080/"
        },
        "outputId": "669bc981-c430-4bd1-f9a7-c73bfea4fd0e"
      },
      "execution_count": null,
      "outputs": [
        {
          "output_type": "stream",
          "name": "stdout",
          "text": [
            "Accuracy on test set: 87 %\n"
          ]
        }
      ]
    },
    {
      "cell_type": "code",
      "source": [
        "fhist = []\n",
        "\n",
        "fhist = [h.cpu().numpy() for h in hist]\n",
        "\n",
        "plt.xlabel(\"Training Epochs\")\n",
        "plt.ylabel(\"Validation Accuracy\")\n",
        "#plt.plot(range(1,num_epochs+1),ohist,label=\"Fine Tuning\")\n",
        "plt.plot(range(1,num_epochs+1),fhist,label=\"Fine Tuning\")\n",
        "plt.ylim((0,1.))\n",
        "plt.xticks(np.arange(1, num_epochs+1, 1.0))\n",
        "plt.legend()\n",
        "plt.show()"
      ],
      "metadata": {
        "id": "Wg7uJYbouXl9",
        "colab": {
          "base_uri": "https://localhost:8080/",
          "height": 455
        },
        "outputId": "1bc45642-af56-4d2c-fbd2-d8d128fba247"
      },
      "execution_count": null,
      "outputs": [
        {
          "output_type": "display_data",
          "data": {
            "text/plain": [
              "<Figure size 640x480 with 1 Axes>"
            ],
            "image/png": "[encoded data removed]"
          },
          "metadata": {}
        }
      ]
    }
  ]
}