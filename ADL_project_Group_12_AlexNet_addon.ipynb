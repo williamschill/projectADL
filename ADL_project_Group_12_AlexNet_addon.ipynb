{
  "nbformat": 4,
  "nbformat_minor": 0,
  "metadata": {
    "colab": {
      "provenance": [],
      "gpuType": "T4"
    },
    "kernelspec": {
      "name": "python3",
      "display_name": "Python 3"
    },
    "language_info": {
      "name": "python"
    },
    "accelerator": "GPU",
    "gpuClass": "standard"
  },
  "cells": [
    {
      "cell_type": "code",
      "execution_count": null,
      "metadata": {
        "id": "VLBu82YZsGoh"
      },
      "outputs": [],
      "source": [
        "import torch\n",
        "import numpy as np\n",
        "from matplotlib import pyplot as plt\n",
        "import torchvision\n",
        "import torch\n",
        "from torchvision.datasets import ImageFolder\n",
        "from torch.utils.data import DataLoader\n",
        "\n",
        "\n",
        "import torch\n",
        "import torch.nn as nn\n",
        "import torch.nn.functional as F\n",
        "import torch.optim as optim\n",
        "import torchvision.models as models\n",
        "import os\n",
        "from sklearn.metrics import confusion_matrix\n",
        "import matplotlib.pyplot as plt\n",
        "\n",
        "import time\n",
        "import os\n",
        "import copy"
      ]
    },
    {
      "cell_type": "code",
      "source": [
        "from google.colab import drive\n",
        "drive.mount('/content/drive')"
      ],
      "metadata": {
        "colab": {
          "base_uri": "https://localhost:8080/"
        },
        "id": "1E9Tf3q8sIqW",
        "outputId": "9fa0aa62-c1cf-4fb6-94a5-2646e03a6de3"
      },
      "execution_count": null,
      "outputs": [
        {
          "output_type": "stream",
          "name": "stdout",
          "text": [
            "Drive already mounted at /content/drive; to attempt to forcibly remount, call drive.mount(\"/content/drive\", force_remount=True).\n"
          ]
        }
      ]
    },
    {
      "cell_type": "code",
      "source": [
        "path = '/content/drive/MyDrive/LTU (1)/ADL_share/Project/data'\n",
        "\n",
        "import torchvision.transforms as transforms\n",
        "\n",
        "transforms = transforms.Compose([\n",
        "    transforms.RandomResizedCrop(224),\n",
        "    transforms.RandomHorizontalFlip(),\n",
        "    transforms.ToTensor(),\n",
        "    transforms.Normalize(mean=[0.485, 0.456, 0.406], std=[0.229, 0.224, 0.225])\n",
        "])\n",
        "\n",
        "train_dataset = ImageFolder(root=path+'/train', transform=transforms)\n",
        "val_dataset = ImageFolder(root=path+'/val', transform=transforms)\n",
        "test_dataset = ImageFolder(root=path+'/test', transform=transforms)\n",
        "\n",
        "train_loader = DataLoader(train_dataset, batch_size=8, shuffle=True)\n",
        "val_loader = DataLoader(val_dataset, batch_size=8, shuffle=True)\n",
        "test_loader = DataLoader(test_dataset, batch_size=8, shuffle=True)\n",
        "\n",
        "dataloaders = {\n",
        "    'train': train_loader,\n",
        "    'val': val_loader,\n",
        "    'test': test_loader\n",
        "}"
      ],
      "metadata": {
        "id": "ETBeF0QKsXo_"
      },
      "execution_count": null,
      "outputs": []
    },
    {
      "cell_type": "code",
      "source": [
        "def train_model(model, dataloaders, criterion, optimizer, num_epochs, is_inception=False):\n",
        "    since = time.time()\n",
        "\n",
        "    val_acc_history = []\n",
        "\n",
        "    best_model_wts = copy.deepcopy(model.state_dict())\n",
        "    best_acc = 0.0\n",
        "\n",
        "    for epoch in range(num_epochs):\n",
        "        print('Epoch {}/{}'.format(epoch, num_epochs - 1))\n",
        "        print('-' * 10)\n",
        "\n",
        "        for phase in ['train', 'val']:\n",
        "            if phase == 'train':\n",
        "                model.train()\n",
        "            else:\n",
        "                model.eval()\n",
        "\n",
        "            running_loss = 0.0\n",
        "            running_corrects = 0\n",
        "\n",
        "            for inputs, labels in dataloaders[phase]:\n",
        "                inputs = inputs.to(device)\n",
        "                labels = labels.to(device)\n",
        "\n",
        "                optimizer.zero_grad()\n",
        "\n",
        "                with torch.set_grad_enabled(phase == 'train'):\n",
        "                    outputs = model(inputs)\n",
        "                    loss = criterion(outputs, labels)\n",
        "\n",
        "                    _, preds = torch.max(outputs, 1)\n",
        "\n",
        "                    if phase == 'train':\n",
        "                        loss.backward()\n",
        "                        optimizer.step()\n",
        "\n",
        "                running_loss += loss.item() * inputs.size(0)\n",
        "                running_corrects += torch.sum(preds == labels.data)\n",
        "\n",
        "            epoch_loss = running_loss / len(dataloaders[phase].dataset)\n",
        "            epoch_acc = running_corrects.double() / len(dataloaders[phase].dataset)\n",
        "\n",
        "            print('{} Loss: {:.4f} Acc: {:.4f}'.format(phase, epoch_loss, epoch_acc))\n",
        "\n",
        "            if phase == 'val' and epoch_acc > best_acc:\n",
        "                best_acc = epoch_acc\n",
        "                best_model_wts = copy.deepcopy(model.state_dict())\n",
        "            if phase == 'val':\n",
        "                val_acc_history.append(epoch_acc)\n",
        "\n",
        "        print()\n",
        "\n",
        "    time_elapsed = time.time() - since\n",
        "    print('Training complete in {:.0f}m {:.0f}s'.format(time_elapsed // 60, time_elapsed % 60))\n",
        "    print('Best val Acc: {:4f}'.format(best_acc))\n",
        "\n",
        "    model.load_state_dict(best_model_wts)\n",
        "    return model, val_acc_history"
      ],
      "metadata": {
        "id": "GNp58M10CT9t"
      },
      "execution_count": null,
      "outputs": []
    },
    {
      "cell_type": "code",
      "source": [
        "num_classes = 2\n",
        "batch_size = 8\n",
        "\n",
        "feature_extract = False\n",
        "\n",
        "activation = nn.LeakyReLU(0.1)\n",
        "dropout = nn.Dropout(0.5)\n",
        "\n",
        "model_ft = models.alexnet(pretrained=True)\n",
        "num_ftrs = model_ft.classifier[6].in_features\n",
        "\n",
        "classifier_addon = nn.Sequential(\n",
        "    nn.Linear(2048,1024),\n",
        "    activation,\n",
        "    dropout,\n",
        "    nn.Linear(1024,512),\n",
        "    activation,\n",
        "    dropout,\n",
        "    nn.Linear(512,256),\n",
        "    activation,\n",
        "    dropout,\n",
        "    nn.Linear(256,2)\n",
        ")\n",
        "\n",
        "model_ft.classifier[6] = nn.Linear(num_ftrs,2048)\n",
        "model_ft.classifier.append(classifier_addon)\n",
        "\n",
        "input_size = 224\n",
        "\n",
        "print(model_ft)"
      ],
      "metadata": {
        "colab": {
          "base_uri": "https://localhost:8080/"
        },
        "id": "aJ1EuthcCUqN",
        "outputId": "dff2acf4-559b-44b4-8682-15134a107e72"
      },
      "execution_count": null,
      "outputs": [
        {
          "output_type": "stream",
          "name": "stdout",
          "text": [
            "AlexNet(\n",
            "  (features): Sequential(\n",
            "    (0): Conv2d(3, 64, kernel_size=(11, 11), stride=(4, 4), padding=(2, 2))\n",
            "    (1): ReLU(inplace=True)\n",
            "    (2): MaxPool2d(kernel_size=3, stride=2, padding=0, dilation=1, ceil_mode=False)\n",
            "    (3): Conv2d(64, 192, kernel_size=(5, 5), stride=(1, 1), padding=(2, 2))\n",
            "    (4): ReLU(inplace=True)\n",
            "    (5): MaxPool2d(kernel_size=3, stride=2, padding=0, dilation=1, ceil_mode=False)\n",
            "    (6): Conv2d(192, 384, kernel_size=(3, 3), stride=(1, 1), padding=(1, 1))\n",
            "    (7): ReLU(inplace=True)\n",
            "    (8): Conv2d(384, 256, kernel_size=(3, 3), stride=(1, 1), padding=(1, 1))\n",
            "    (9): ReLU(inplace=True)\n",
            "    (10): Conv2d(256, 256, kernel_size=(3, 3), stride=(1, 1), padding=(1, 1))\n",
            "    (11): ReLU(inplace=True)\n",
            "    (12): MaxPool2d(kernel_size=3, stride=2, padding=0, dilation=1, ceil_mode=False)\n",
            "  )\n",
            "  (avgpool): AdaptiveAvgPool2d(output_size=(6, 6))\n",
            "  (classifier): Sequential(\n",
            "    (0): Dropout(p=0.5, inplace=False)\n",
            "    (1): Linear(in_features=9216, out_features=4096, bias=True)\n",
            "    (2): ReLU(inplace=True)\n",
            "    (3): Dropout(p=0.5, inplace=False)\n",
            "    (4): Linear(in_features=4096, out_features=4096, bias=True)\n",
            "    (5): ReLU(inplace=True)\n",
            "    (6): Linear(in_features=4096, out_features=2048, bias=True)\n",
            "    (7): Sequential(\n",
            "      (0): Linear(in_features=2048, out_features=1024, bias=True)\n",
            "      (1): LeakyReLU(negative_slope=0.1)\n",
            "      (2): Dropout(p=0.5, inplace=False)\n",
            "      (3): Linear(in_features=1024, out_features=512, bias=True)\n",
            "      (4): LeakyReLU(negative_slope=0.1)\n",
            "      (5): Dropout(p=0.5, inplace=False)\n",
            "      (6): Linear(in_features=512, out_features=256, bias=True)\n",
            "      (7): LeakyReLU(negative_slope=0.1)\n",
            "      (8): Dropout(p=0.5, inplace=False)\n",
            "      (9): Linear(in_features=256, out_features=2, bias=True)\n",
            "    )\n",
            "  )\n",
            ")\n"
          ]
        }
      ]
    },
    {
      "cell_type": "code",
      "source": [
        "device = torch.device(\"cuda:0\" if torch.cuda.is_available() else \"cpu\")\n",
        "\n",
        "model_ft = model_ft.to(device)\n",
        "\n",
        "params_to_update = model_ft.parameters()\n",
        "print(\"Params to learn:\")\n",
        "if feature_extract:\n",
        "    params_to_update = []\n",
        "    for name,param in model_ft.named_parameters():\n",
        "        if param.requires_grad == True:\n",
        "            params_to_update.append(param)\n",
        "            print(\"\\t\",name)\n",
        "else:\n",
        "    for name,param in model_ft.named_parameters():\n",
        "        if param.requires_grad == True:\n",
        "            print(\"\\t\",name)\n",
        "\n",
        "optimizer_ft = optim.Adam(params_to_update, lr=0.0001)"
      ],
      "metadata": {
        "colab": {
          "base_uri": "https://localhost:8080/"
        },
        "id": "ZOeqN1OwCW5p",
        "outputId": "b757ad53-2d7f-4ccf-a037-b66207e6c032"
      },
      "execution_count": null,
      "outputs": [
        {
          "output_type": "stream",
          "name": "stdout",
          "text": [
            "Params to learn:\n",
            "\t features.0.weight\n",
            "\t features.0.bias\n",
            "\t features.3.weight\n",
            "\t features.3.bias\n",
            "\t features.6.weight\n",
            "\t features.6.bias\n",
            "\t features.8.weight\n",
            "\t features.8.bias\n",
            "\t features.10.weight\n",
            "\t features.10.bias\n",
            "\t classifier.1.weight\n",
            "\t classifier.1.bias\n",
            "\t classifier.4.weight\n",
            "\t classifier.4.bias\n",
            "\t classifier.6.weight\n",
            "\t classifier.6.bias\n",
            "\t classifier.7.0.weight\n",
            "\t classifier.7.0.bias\n",
            "\t classifier.7.3.weight\n",
            "\t classifier.7.3.bias\n",
            "\t classifier.7.6.weight\n",
            "\t classifier.7.6.bias\n",
            "\t classifier.7.9.weight\n",
            "\t classifier.7.9.bias\n"
          ]
        }
      ]
    },
    {
      "cell_type": "code",
      "source": [
        "criterion = nn.CrossEntropyLoss()\n",
        "num_epochs = 30\n",
        "\n",
        "model_ft, hist = train_model(model_ft,\n",
        "                             dataloaders,\n",
        "                             criterion,\n",
        "                             optimizer_ft,\n",
        "                             num_epochs=num_epochs)"
      ],
      "metadata": {
        "colab": {
          "base_uri": "https://localhost:8080/"
        },
        "id": "AexZtZN4Cqpf",
        "outputId": "db91cfe5-a571-4474-e9a2-1444257d63be"
      },
      "execution_count": null,
      "outputs": [
        {
          "output_type": "stream",
          "name": "stdout",
          "text": [
            "Epoch 0/29\n",
            "----------\n",
            "train Loss: 0.3615 Acc: 0.8417\n",
            "val Loss: 0.4426 Acc: 0.8241\n",
            "\n",
            "Epoch 1/29\n",
            "----------\n",
            "train Loss: 0.2945 Acc: 0.8904\n",
            "val Loss: 0.3564 Acc: 0.8241\n",
            "\n",
            "Epoch 2/29\n",
            "----------\n",
            "train Loss: 0.2507 Acc: 0.9033\n",
            "val Loss: 0.5682 Acc: 0.7361\n",
            "\n",
            "Epoch 3/29\n",
            "----------\n",
            "train Loss: 0.2402 Acc: 0.9003\n",
            "val Loss: 0.3234 Acc: 0.8426\n",
            "\n",
            "Epoch 4/29\n",
            "----------\n",
            "train Loss: 0.2280 Acc: 0.9189\n",
            "val Loss: 0.2349 Acc: 0.9213\n",
            "\n",
            "Epoch 5/29\n",
            "----------\n",
            "train Loss: 0.2207 Acc: 0.9201\n",
            "val Loss: 0.5188 Acc: 0.8889\n",
            "\n",
            "Epoch 6/29\n",
            "----------\n",
            "train Loss: 0.2089 Acc: 0.9199\n",
            "val Loss: 0.3780 Acc: 0.8843\n",
            "\n",
            "Epoch 7/29\n",
            "----------\n",
            "train Loss: 0.1977 Acc: 0.9294\n",
            "val Loss: 0.1954 Acc: 0.9120\n",
            "\n",
            "Epoch 8/29\n",
            "----------\n",
            "train Loss: 0.1983 Acc: 0.9270\n",
            "val Loss: 0.2620 Acc: 0.9306\n",
            "\n",
            "Epoch 9/29\n",
            "----------\n",
            "train Loss: 0.1903 Acc: 0.9278\n",
            "val Loss: 0.3561 Acc: 0.8935\n",
            "\n",
            "Epoch 10/29\n",
            "----------\n",
            "train Loss: 0.1756 Acc: 0.9368\n",
            "val Loss: 0.2200 Acc: 0.9167\n",
            "\n",
            "Epoch 11/29\n",
            "----------\n",
            "train Loss: 0.1854 Acc: 0.9344\n",
            "val Loss: 0.2655 Acc: 0.9167\n",
            "\n",
            "Epoch 12/29\n",
            "----------\n",
            "train Loss: 0.1901 Acc: 0.9364\n",
            "val Loss: 0.2561 Acc: 0.9259\n",
            "\n",
            "Epoch 13/29\n",
            "----------\n",
            "train Loss: 0.1719 Acc: 0.9376\n",
            "val Loss: 0.2032 Acc: 0.9213\n",
            "\n",
            "Epoch 14/29\n",
            "----------\n",
            "train Loss: 0.1775 Acc: 0.9400\n",
            "val Loss: 0.1681 Acc: 0.9352\n",
            "\n",
            "Epoch 15/29\n",
            "----------\n",
            "train Loss: 0.1754 Acc: 0.9388\n",
            "val Loss: 0.2738 Acc: 0.9167\n",
            "\n",
            "Epoch 16/29\n",
            "----------\n",
            "train Loss: 0.1703 Acc: 0.9438\n",
            "val Loss: 0.1446 Acc: 0.9630\n",
            "\n",
            "Epoch 17/29\n",
            "----------\n",
            "train Loss: 0.1738 Acc: 0.9410\n",
            "val Loss: 0.1771 Acc: 0.9352\n",
            "\n",
            "Epoch 18/29\n",
            "----------\n",
            "train Loss: 0.1592 Acc: 0.9436\n",
            "val Loss: 0.2026 Acc: 0.9213\n",
            "\n",
            "Epoch 19/29\n",
            "----------\n",
            "train Loss: 0.1635 Acc: 0.9408\n",
            "val Loss: 0.2258 Acc: 0.8935\n",
            "\n",
            "Epoch 20/29\n",
            "----------\n",
            "train Loss: 0.1596 Acc: 0.9440\n",
            "val Loss: 0.1762 Acc: 0.9259\n",
            "\n",
            "Epoch 21/29\n",
            "----------\n",
            "train Loss: 0.1511 Acc: 0.9426\n",
            "val Loss: 0.2063 Acc: 0.9074\n",
            "\n",
            "Epoch 22/29\n",
            "----------\n",
            "train Loss: 0.1589 Acc: 0.9436\n",
            "val Loss: 0.3503 Acc: 0.8287\n",
            "\n",
            "Epoch 23/29\n",
            "----------\n",
            "train Loss: 0.1600 Acc: 0.9428\n",
            "val Loss: 0.1989 Acc: 0.9120\n",
            "\n",
            "Epoch 24/29\n",
            "----------\n",
            "train Loss: 0.1546 Acc: 0.9436\n",
            "val Loss: 0.2361 Acc: 0.9213\n",
            "\n",
            "Epoch 25/29\n",
            "----------\n",
            "train Loss: 0.1601 Acc: 0.9412\n",
            "val Loss: 0.2696 Acc: 0.9028\n",
            "\n",
            "Epoch 26/29\n",
            "----------\n",
            "train Loss: 0.1594 Acc: 0.9440\n",
            "val Loss: 0.3416 Acc: 0.8611\n",
            "\n",
            "Epoch 27/29\n",
            "----------\n",
            "train Loss: 0.1509 Acc: 0.9494\n",
            "val Loss: 0.2564 Acc: 0.9167\n",
            "\n",
            "Epoch 28/29\n",
            "----------\n",
            "train Loss: 0.1569 Acc: 0.9410\n",
            "val Loss: 0.1705 Acc: 0.9306\n",
            "\n",
            "Epoch 29/29\n",
            "----------\n",
            "train Loss: 0.1883 Acc: 0.9396\n",
            "val Loss: 0.1998 Acc: 0.9120\n",
            "\n",
            "Training complete in 63m 16s\n",
            "Best val Acc: 0.962963\n"
          ]
        }
      ]
    },
    {
      "cell_type": "code",
      "source": [
        "torch.save(model_ft.state_dict(), './alexnet_finetuned2.pth')"
      ],
      "metadata": {
        "id": "Y8R85DRmCul7"
      },
      "execution_count": null,
      "outputs": []
    },
    {
      "cell_type": "code",
      "source": [
        "activation = nn.LeakyReLU(0.1)\n",
        "dropout = nn.Dropout(0.5)\n",
        "\n",
        "model_ft = models.alexnet(pretrained=True)\n",
        "num_ftrs = model_ft.classifier[6].in_features\n",
        "\n",
        "classifier_addon = nn.Sequential(\n",
        "    nn.Linear(2048,1024),\n",
        "    activation,\n",
        "    dropout,\n",
        "    nn.Linear(1024,512),\n",
        "    activation,\n",
        "    dropout,\n",
        "    nn.Linear(512,256),\n",
        "    activation,\n",
        "    dropout,\n",
        "    nn.Linear(256,2)\n",
        ")\n",
        "\n",
        "model_ft.classifier[6] = nn.Linear(num_ftrs,2048)\n",
        "model_ft.classifier.append(classifier_addon)\n",
        "input_size = 224\n",
        "\n",
        "model_ft.load_state_dict(torch.load('./alexnet_finetuned2.pth'))"
      ],
      "metadata": {
        "id": "17vYf0o9CvVB",
        "colab": {
          "base_uri": "https://localhost:8080/"
        },
        "outputId": "777fedb3-62e4-47f8-c2a5-c7e5f46464c1"
      },
      "execution_count": null,
      "outputs": [
        {
          "output_type": "execute_result",
          "data": {
            "text/plain": [
              "<All keys matched successfully>"
            ]
          },
          "metadata": {},
          "execution_count": 38
        }
      ]
    },
    {
      "cell_type": "code",
      "source": [
        "fhist = []\n",
        "\n",
        "fhist = [h.cpu().numpy() for h in hist]\n",
        "\n",
        "plt.xlabel(\"Training Epochs\")\n",
        "plt.ylabel(\"Validation Accuracy\")\n",
        "#plt.plot(range(1,num_epochs+1),ohist,label=\"Fine Tuning\")\n",
        "plt.plot(range(1,num_epochs+1),fhist,label=\"Fine Tuning\")\n",
        "plt.ylim((0,1.))\n",
        "plt.xticks(np.arange(0, num_epochs+1, 5.0))\n",
        "plt.legend()\n",
        "plt.show()"
      ],
      "metadata": {
        "id": "Wg7uJYbouXl9",
        "colab": {
          "base_uri": "https://localhost:8080/",
          "height": 455
        },
        "outputId": "ce4cda6c-2325-4cf6-bc4d-8764a7c745fb"
      },
      "execution_count": null,
      "outputs": [
        {
          "output_type": "display_data",
          "data": {
            "text/plain": [
              "<Figure size 640x480 with 1 Axes>"
            ],
            "image/png": "[encoded data removed]"
          },
          "metadata": {}
        }
      ]
    },
    {
      "cell_type": "code",
      "source": [
        "correct, total = 0, 0\n",
        "\n",
        "with torch.no_grad():\n",
        "    for data in test_loader:\n",
        "        images, labels = data\n",
        "        outputs = model_ft(images)\n",
        "        _, predicted = torch.max(outputs.data, 1)\n",
        "        total += labels.size(0)\n",
        "        correct += (predicted == labels).sum().item()\n",
        "print(f'Accuracy on test set: {100 * correct // total} %')"
      ],
      "metadata": {
        "id": "cNNjEs9ICxZM",
        "colab": {
          "base_uri": "https://localhost:8080/"
        },
        "outputId": "559a0d52-2375-4e85-8e7e-86b2efd83629"
      },
      "execution_count": null,
      "outputs": [
        {
          "output_type": "stream",
          "name": "stdout",
          "text": [
            "Accuracy on test set: 89 %\n"
          ]
        }
      ]
    }
  ]
}