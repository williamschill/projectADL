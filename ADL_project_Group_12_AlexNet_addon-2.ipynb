{
  "nbformat": 4,
  "nbformat_minor": 0,
  "metadata": {
    "colab": {
      "provenance": [],
      "gpuType": "T4"
    },
    "kernelspec": {
      "name": "python3",
      "display_name": "Python 3"
    },
    "language_info": {
      "name": "python"
    },
    "accelerator": "GPU",
    "gpuClass": "standard"
  },
  "cells": [
    {
      "cell_type": "code",
      "execution_count": 1,
      "metadata": {
        "id": "VLBu82YZsGoh"
      },
      "outputs": [],
      "source": [
        "import torch\n",
        "import numpy as np\n",
        "from matplotlib import pyplot as plt\n",
        "import torchvision\n",
        "import torch\n",
        "from torchvision.datasets import ImageFolder\n",
        "from torch.utils.data import DataLoader\n",
        "\n",
        "\n",
        "import torch\n",
        "import torch.nn as nn\n",
        "import torch.nn.functional as F\n",
        "import torch.optim as optim\n",
        "import torchvision.models as models\n",
        "import os\n",
        "from sklearn.metrics import confusion_matrix\n",
        "import matplotlib.pyplot as plt\n",
        "\n",
        "import time\n",
        "import os\n",
        "import copy"
      ]
    },
    {
      "cell_type": "code",
      "source": [
        "from google.colab import drive\n",
        "drive.mount('/content/drive')"
      ],
      "metadata": {
        "colab": {
          "base_uri": "https://localhost:8080/"
        },
        "id": "1E9Tf3q8sIqW",
        "outputId": "bb193853-0780-4357-a59a-9d6128168907"
      },
      "execution_count": 2,
      "outputs": [
        {
          "output_type": "stream",
          "name": "stdout",
          "text": [
            "Mounted at /content/drive\n"
          ]
        }
      ]
    },
    {
      "cell_type": "code",
      "source": [
        "path = '/content/drive/MyDrive/LTU (1)/ADL_share/Project/data'\n",
        "\n",
        "import torchvision.transforms as transforms\n",
        "\n",
        "transforms_train = transforms.Compose([\n",
        "    transforms.RandomResizedCrop(224),\n",
        "    transforms.RandomHorizontalFlip(),\n",
        "    transforms.ToTensor(),\n",
        "    transforms.Normalize(mean=[0.485, 0.456, 0.406], std=[0.229, 0.224, 0.225])\n",
        "])\n",
        "\n",
        "transforms_val = transforms.Compose([\n",
        "      transforms.Resize(256),\n",
        "      transforms.CenterCrop(224),\n",
        "      transforms.ToTensor(),\n",
        "      transforms.Normalize([0.485, 0.456, 0.406], [0.229, 0.224, 0.225])\n",
        "])\n",
        "\n",
        "train_dataset = ImageFolder(root=path+'/train', transform=transforms_train)\n",
        "val_dataset = ImageFolder(root=path+'/val', transform=transforms_val)\n",
        "test_dataset = ImageFolder(root=path+'/test', transform=transforms_val)\n",
        "\n",
        "train_loader = DataLoader(train_dataset, batch_size=8, shuffle=True)\n",
        "val_loader = DataLoader(val_dataset, batch_size=8, shuffle=True)\n",
        "test_loader = DataLoader(test_dataset, batch_size=8, shuffle=True)\n",
        "\n",
        "dataloaders = {\n",
        "    'train': train_loader,\n",
        "    'val': val_loader,\n",
        "    'test': test_loader\n",
        "}"
      ],
      "metadata": {
        "id": "ETBeF0QKsXo_"
      },
      "execution_count": 3,
      "outputs": []
    },
    {
      "cell_type": "code",
      "source": [
        "def train_model(model, dataloaders, criterion, optimizer, num_epochs, is_inception=False):\n",
        "    since = time.time()\n",
        "\n",
        "    val_acc_history = []\n",
        "\n",
        "    best_model_wts = copy.deepcopy(model.state_dict())\n",
        "    best_acc = 0.0\n",
        "\n",
        "    for epoch in range(num_epochs):\n",
        "        print('Epoch {}/{}'.format(epoch, num_epochs - 1))\n",
        "        print('-' * 10)\n",
        "\n",
        "        for phase in ['train', 'val']:\n",
        "            if phase == 'train':\n",
        "                model.train()\n",
        "            else:\n",
        "                model.eval()\n",
        "\n",
        "            running_loss = 0.0\n",
        "            running_corrects = 0\n",
        "\n",
        "            for inputs, labels in dataloaders[phase]:\n",
        "                inputs = inputs.to(device)\n",
        "                labels = labels.to(device)\n",
        "\n",
        "                optimizer.zero_grad()\n",
        "\n",
        "                with torch.set_grad_enabled(phase == 'train'):\n",
        "                    outputs = model(inputs)\n",
        "                    loss = criterion(outputs, labels)\n",
        "\n",
        "                    _, preds = torch.max(outputs, 1)\n",
        "\n",
        "                    if phase == 'train':\n",
        "                        loss.backward()\n",
        "                        optimizer.step()\n",
        "\n",
        "                running_loss += loss.item() * inputs.size(0)\n",
        "                running_corrects += torch.sum(preds == labels.data)\n",
        "\n",
        "            epoch_loss = running_loss / len(dataloaders[phase].dataset)\n",
        "            epoch_acc = running_corrects.double() / len(dataloaders[phase].dataset)\n",
        "\n",
        "            print('{} Loss: {:.4f} Acc: {:.4f}'.format(phase, epoch_loss, epoch_acc))\n",
        "\n",
        "            if phase == 'val' and epoch_acc > best_acc:\n",
        "                best_acc = epoch_acc\n",
        "                best_model_wts = copy.deepcopy(model.state_dict())\n",
        "            if phase == 'val':\n",
        "                val_acc_history.append(epoch_acc)\n",
        "\n",
        "        print()\n",
        "\n",
        "    time_elapsed = time.time() - since\n",
        "    print('Training complete in {:.0f}m {:.0f}s'.format(time_elapsed // 60, time_elapsed % 60))\n",
        "    print('Best val Acc: {:4f}'.format(best_acc))\n",
        "\n",
        "    model.load_state_dict(best_model_wts)\n",
        "    return model, val_acc_history"
      ],
      "metadata": {
        "id": "GNp58M10CT9t"
      },
      "execution_count": 4,
      "outputs": []
    },
    {
      "cell_type": "code",
      "source": [
        "num_classes = 2\n",
        "batch_size = 8\n",
        "\n",
        "feature_extract = False\n",
        "\n",
        "activation = nn.LeakyReLU(0.1)\n",
        "dropout = nn.Dropout(0.5)\n",
        "\n",
        "model_ft = models.alexnet(pretrained=True)\n",
        "num_ftrs = model_ft.classifier[6].in_features\n",
        "\n",
        "classifier_addon = nn.Sequential(\n",
        "    nn.Linear(2048,1024),\n",
        "    activation,\n",
        "    dropout,\n",
        "    nn.Linear(1024,512),\n",
        "    activation,\n",
        "    dropout,\n",
        "    nn.Linear(512,256),\n",
        "    activation,\n",
        "    dropout,\n",
        "    nn.Linear(256,2)\n",
        ")\n",
        "\n",
        "model_ft.classifier[6] = nn.Linear(num_ftrs,2048)\n",
        "model_ft.classifier.append(classifier_addon)\n",
        "\n",
        "input_size = 224\n",
        "\n",
        "print(model_ft)"
      ],
      "metadata": {
        "colab": {
          "base_uri": "https://localhost:8080/"
        },
        "id": "aJ1EuthcCUqN",
        "outputId": "bff00b5a-ee13-45ec-d88b-a6272cdc8836"
      },
      "execution_count": 5,
      "outputs": [
        {
          "output_type": "stream",
          "name": "stderr",
          "text": [
            "/usr/local/lib/python3.10/dist-packages/torchvision/models/_utils.py:208: UserWarning: The parameter 'pretrained' is deprecated since 0.13 and may be removed in the future, please use 'weights' instead.\n",
            "  warnings.warn(\n",
            "/usr/local/lib/python3.10/dist-packages/torchvision/models/_utils.py:223: UserWarning: Arguments other than a weight enum or `None` for 'weights' are deprecated since 0.13 and may be removed in the future. The current behavior is equivalent to passing `weights=AlexNet_Weights.IMAGENET1K_V1`. You can also use `weights=AlexNet_Weights.DEFAULT` to get the most up-to-date weights.\n",
            "  warnings.warn(msg)\n",
            "Downloading: \"https://download.pytorch.org/models/alexnet-owt-7be5be79.pth\" to /root/.cache/torch/hub/checkpoints/alexnet-owt-7be5be79.pth\n",
            "100%|██████████| 233M/233M [00:01<00:00, 210MB/s]\n"
          ]
        },
        {
          "output_type": "stream",
          "name": "stdout",
          "text": [
            "AlexNet(\n",
            "  (features): Sequential(\n",
            "    (0): Conv2d(3, 64, kernel_size=(11, 11), stride=(4, 4), padding=(2, 2))\n",
            "    (1): ReLU(inplace=True)\n",
            "    (2): MaxPool2d(kernel_size=3, stride=2, padding=0, dilation=1, ceil_mode=False)\n",
            "    (3): Conv2d(64, 192, kernel_size=(5, 5), stride=(1, 1), padding=(2, 2))\n",
            "    (4): ReLU(inplace=True)\n",
            "    (5): MaxPool2d(kernel_size=3, stride=2, padding=0, dilation=1, ceil_mode=False)\n",
            "    (6): Conv2d(192, 384, kernel_size=(3, 3), stride=(1, 1), padding=(1, 1))\n",
            "    (7): ReLU(inplace=True)\n",
            "    (8): Conv2d(384, 256, kernel_size=(3, 3), stride=(1, 1), padding=(1, 1))\n",
            "    (9): ReLU(inplace=True)\n",
            "    (10): Conv2d(256, 256, kernel_size=(3, 3), stride=(1, 1), padding=(1, 1))\n",
            "    (11): ReLU(inplace=True)\n",
            "    (12): MaxPool2d(kernel_size=3, stride=2, padding=0, dilation=1, ceil_mode=False)\n",
            "  )\n",
            "  (avgpool): AdaptiveAvgPool2d(output_size=(6, 6))\n",
            "  (classifier): Sequential(\n",
            "    (0): Dropout(p=0.5, inplace=False)\n",
            "    (1): Linear(in_features=9216, out_features=4096, bias=True)\n",
            "    (2): ReLU(inplace=True)\n",
            "    (3): Dropout(p=0.5, inplace=False)\n",
            "    (4): Linear(in_features=4096, out_features=4096, bias=True)\n",
            "    (5): ReLU(inplace=True)\n",
            "    (6): Linear(in_features=4096, out_features=2048, bias=True)\n",
            "    (7): Sequential(\n",
            "      (0): Linear(in_features=2048, out_features=1024, bias=True)\n",
            "      (1): LeakyReLU(negative_slope=0.1)\n",
            "      (2): Dropout(p=0.5, inplace=False)\n",
            "      (3): Linear(in_features=1024, out_features=512, bias=True)\n",
            "      (4): LeakyReLU(negative_slope=0.1)\n",
            "      (5): Dropout(p=0.5, inplace=False)\n",
            "      (6): Linear(in_features=512, out_features=256, bias=True)\n",
            "      (7): LeakyReLU(negative_slope=0.1)\n",
            "      (8): Dropout(p=0.5, inplace=False)\n",
            "      (9): Linear(in_features=256, out_features=2, bias=True)\n",
            "    )\n",
            "  )\n",
            ")\n"
          ]
        }
      ]
    },
    {
      "cell_type": "code",
      "source": [
        "device = torch.device(\"cuda:0\" if torch.cuda.is_available() else \"cpu\")\n",
        "\n",
        "model_ft = model_ft.to(device)\n",
        "\n",
        "params_to_update = model_ft.parameters()\n",
        "print(\"Params to learn:\")\n",
        "if feature_extract:\n",
        "    params_to_update = []\n",
        "    for name,param in model_ft.named_parameters():\n",
        "        if param.requires_grad == True:\n",
        "            params_to_update.append(param)\n",
        "            print(\"\\t\",name)\n",
        "else:\n",
        "    for name,param in model_ft.named_parameters():\n",
        "        if param.requires_grad == True:\n",
        "            print(\"\\t\",name)\n",
        "\n",
        "optimizer_ft = optim.Adam(params_to_update, lr=0.0001)"
      ],
      "metadata": {
        "colab": {
          "base_uri": "https://localhost:8080/"
        },
        "id": "ZOeqN1OwCW5p",
        "outputId": "ef945a1c-8a26-40cf-c56c-e743e7801bfc"
      },
      "execution_count": 6,
      "outputs": [
        {
          "output_type": "stream",
          "name": "stdout",
          "text": [
            "Params to learn:\n",
            "\t features.0.weight\n",
            "\t features.0.bias\n",
            "\t features.3.weight\n",
            "\t features.3.bias\n",
            "\t features.6.weight\n",
            "\t features.6.bias\n",
            "\t features.8.weight\n",
            "\t features.8.bias\n",
            "\t features.10.weight\n",
            "\t features.10.bias\n",
            "\t classifier.1.weight\n",
            "\t classifier.1.bias\n",
            "\t classifier.4.weight\n",
            "\t classifier.4.bias\n",
            "\t classifier.6.weight\n",
            "\t classifier.6.bias\n",
            "\t classifier.7.0.weight\n",
            "\t classifier.7.0.bias\n",
            "\t classifier.7.3.weight\n",
            "\t classifier.7.3.bias\n",
            "\t classifier.7.6.weight\n",
            "\t classifier.7.6.bias\n",
            "\t classifier.7.9.weight\n",
            "\t classifier.7.9.bias\n"
          ]
        }
      ]
    },
    {
      "cell_type": "code",
      "source": [
        "criterion = nn.CrossEntropyLoss()\n",
        "num_epochs = 30\n",
        "\n",
        "model_ft, hist = train_model(model_ft,\n",
        "                             dataloaders,\n",
        "                             criterion,\n",
        "                             optimizer_ft,\n",
        "                             num_epochs=num_epochs)"
      ],
      "metadata": {
        "colab": {
          "base_uri": "https://localhost:8080/"
        },
        "id": "AexZtZN4Cqpf",
        "outputId": "e5a44148-3a19-447e-954f-daff798f946b"
      },
      "execution_count": 7,
      "outputs": [
        {
          "output_type": "stream",
          "name": "stdout",
          "text": [
            "Epoch 0/29\n",
            "----------\n",
            "train Loss: 0.3401 Acc: 0.8553\n",
            "val Loss: 0.2704 Acc: 0.9306\n",
            "\n",
            "Epoch 1/29\n",
            "----------\n",
            "train Loss: 0.2857 Acc: 0.8925\n",
            "val Loss: 0.2150 Acc: 0.9352\n",
            "\n",
            "Epoch 2/29\n",
            "----------\n",
            "train Loss: 0.2320 Acc: 0.9121\n",
            "val Loss: 0.3226 Acc: 0.9213\n",
            "\n",
            "Epoch 3/29\n",
            "----------\n",
            "train Loss: 0.2329 Acc: 0.9143\n",
            "val Loss: 0.1480 Acc: 0.9491\n",
            "\n",
            "Epoch 4/29\n",
            "----------\n",
            "train Loss: 0.2096 Acc: 0.9226\n",
            "val Loss: 0.1428 Acc: 0.9352\n",
            "\n",
            "Epoch 5/29\n",
            "----------\n",
            "train Loss: 0.2107 Acc: 0.9197\n",
            "val Loss: 0.1739 Acc: 0.9398\n",
            "\n",
            "Epoch 6/29\n",
            "----------\n",
            "train Loss: 0.1955 Acc: 0.9306\n",
            "val Loss: 0.1378 Acc: 0.9444\n",
            "\n",
            "Epoch 7/29\n",
            "----------\n",
            "train Loss: 0.2021 Acc: 0.9246\n",
            "val Loss: 0.2103 Acc: 0.9491\n",
            "\n",
            "Epoch 8/29\n",
            "----------\n",
            "train Loss: 0.1919 Acc: 0.9314\n",
            "val Loss: 0.1225 Acc: 0.9491\n",
            "\n",
            "Epoch 9/29\n",
            "----------\n",
            "train Loss: 0.1753 Acc: 0.9312\n",
            "val Loss: 0.1037 Acc: 0.9537\n",
            "\n",
            "Epoch 10/29\n",
            "----------\n",
            "train Loss: 0.1853 Acc: 0.9340\n",
            "val Loss: 0.1573 Acc: 0.9491\n",
            "\n",
            "Epoch 11/29\n",
            "----------\n",
            "train Loss: 0.1825 Acc: 0.9382\n",
            "val Loss: 0.1059 Acc: 0.9537\n",
            "\n",
            "Epoch 12/29\n",
            "----------\n",
            "train Loss: 0.1728 Acc: 0.9324\n",
            "val Loss: 0.1350 Acc: 0.9491\n",
            "\n",
            "Epoch 13/29\n",
            "----------\n",
            "train Loss: 0.1783 Acc: 0.9394\n",
            "val Loss: 0.1290 Acc: 0.9537\n",
            "\n",
            "Epoch 14/29\n",
            "----------\n",
            "train Loss: 0.1756 Acc: 0.9368\n",
            "val Loss: 0.1583 Acc: 0.9491\n",
            "\n",
            "Epoch 15/29\n",
            "----------\n",
            "train Loss: 0.1718 Acc: 0.9404\n",
            "val Loss: 0.1924 Acc: 0.9306\n",
            "\n",
            "Epoch 16/29\n",
            "----------\n",
            "train Loss: 0.1666 Acc: 0.9378\n",
            "val Loss: 0.1505 Acc: 0.9444\n",
            "\n",
            "Epoch 17/29\n",
            "----------\n",
            "train Loss: 0.1586 Acc: 0.9428\n",
            "val Loss: 0.1137 Acc: 0.9537\n",
            "\n",
            "Epoch 18/29\n",
            "----------\n",
            "train Loss: 0.1580 Acc: 0.9426\n",
            "val Loss: 0.1338 Acc: 0.9444\n",
            "\n",
            "Epoch 19/29\n",
            "----------\n",
            "train Loss: 0.1681 Acc: 0.9422\n",
            "val Loss: 0.1974 Acc: 0.9583\n",
            "\n",
            "Epoch 20/29\n",
            "----------\n",
            "train Loss: 0.1573 Acc: 0.9416\n",
            "val Loss: 0.1171 Acc: 0.9398\n",
            "\n",
            "Epoch 21/29\n",
            "----------\n",
            "train Loss: 0.1650 Acc: 0.9390\n",
            "val Loss: 0.1324 Acc: 0.9491\n",
            "\n",
            "Epoch 22/29\n",
            "----------\n",
            "train Loss: 0.1568 Acc: 0.9452\n",
            "val Loss: 0.1249 Acc: 0.9676\n",
            "\n",
            "Epoch 23/29\n",
            "----------\n",
            "train Loss: 0.1652 Acc: 0.9458\n",
            "val Loss: 0.1616 Acc: 0.9491\n",
            "\n",
            "Epoch 24/29\n",
            "----------\n",
            "train Loss: 0.1501 Acc: 0.9434\n",
            "val Loss: 0.1526 Acc: 0.9352\n",
            "\n",
            "Epoch 25/29\n",
            "----------\n",
            "train Loss: 0.1441 Acc: 0.9484\n",
            "val Loss: 0.1016 Acc: 0.9630\n",
            "\n",
            "Epoch 26/29\n",
            "----------\n",
            "train Loss: 0.1470 Acc: 0.9470\n",
            "val Loss: 0.1920 Acc: 0.9444\n",
            "\n",
            "Epoch 27/29\n",
            "----------\n",
            "train Loss: 0.1480 Acc: 0.9462\n",
            "val Loss: 0.2216 Acc: 0.9537\n",
            "\n",
            "Epoch 28/29\n",
            "----------\n",
            "train Loss: 0.1368 Acc: 0.9541\n",
            "val Loss: 0.1119 Acc: 0.9722\n",
            "\n",
            "Epoch 29/29\n",
            "----------\n",
            "train Loss: 0.1544 Acc: 0.9468\n",
            "val Loss: 0.1378 Acc: 0.9630\n",
            "\n",
            "Training complete in 78m 35s\n",
            "Best val Acc: 0.972222\n"
          ]
        }
      ]
    },
    {
      "cell_type": "code",
      "source": [
        "torch.save(model_ft.state_dict(), './alexnet_finetuned2.pth')"
      ],
      "metadata": {
        "id": "Y8R85DRmCul7"
      },
      "execution_count": 8,
      "outputs": []
    },
    {
      "cell_type": "code",
      "source": [
        "activation = nn.LeakyReLU(0.1)\n",
        "dropout = nn.Dropout(0.5)\n",
        "\n",
        "model_ft = models.alexnet(pretrained=True)\n",
        "num_ftrs = model_ft.classifier[6].in_features\n",
        "\n",
        "classifier_addon = nn.Sequential(\n",
        "    nn.Linear(2048,1024),\n",
        "    activation,\n",
        "    dropout,\n",
        "    nn.Linear(1024,512),\n",
        "    activation,\n",
        "    dropout,\n",
        "    nn.Linear(512,256),\n",
        "    activation,\n",
        "    dropout,\n",
        "    nn.Linear(256,2)\n",
        ")\n",
        "\n",
        "model_ft.classifier[6] = nn.Linear(num_ftrs,2048)\n",
        "model_ft.classifier.append(classifier_addon)\n",
        "input_size = 224\n",
        "\n",
        "model_ft.load_state_dict(torch.load('./alexnet_finetuned2.pth'))"
      ],
      "metadata": {
        "id": "17vYf0o9CvVB",
        "colab": {
          "base_uri": "https://localhost:8080/"
        },
        "outputId": "85293d4a-2ab9-4df9-b357-602e3bda82c3"
      },
      "execution_count": 9,
      "outputs": [
        {
          "output_type": "execute_result",
          "data": {
            "text/plain": [
              "<All keys matched successfully>"
            ]
          },
          "metadata": {},
          "execution_count": 9
        }
      ]
    },
    {
      "cell_type": "code",
      "source": [
        "fhist = []\n",
        "\n",
        "fhist = [h.cpu().numpy() for h in hist]\n",
        "\n",
        "plt.xlabel(\"Training Epochs\")\n",
        "plt.ylabel(\"Validation Accuracy\")\n",
        "\n",
        "plt.plot(range(1,num_epochs+1),fhist,label=\"Fine Tuning\")\n",
        "plt.ylim((0,1.))\n",
        "plt.xticks(np.arange(0, num_epochs+1, 5.0))\n",
        "plt.legend()\n",
        "plt.show()"
      ],
      "metadata": {
        "id": "Wg7uJYbouXl9",
        "colab": {
          "base_uri": "https://localhost:8080/",
          "height": 455
        },
        "outputId": "e139b5df-5fcd-4207-a93d-ce2a0a1251f3"
      },
      "execution_count": 10,
      "outputs": [
        {
          "output_type": "display_data",
          "data": {
            "text/plain": [
              "<Figure size 640x480 with 1 Axes>"
            ],
            "image/png": "[encoded data removed]"
          },
          "metadata": {}
        }
      ]
    },
    {
      "cell_type": "code",
      "source": [
        "correct, total = 0, 0\n",
        "\n",
        "with torch.no_grad():\n",
        "    for data in test_loader:\n",
        "        images, labels = data\n",
        "        outputs = model_ft(images)\n",
        "        _, predicted = torch.max(outputs.data, 1)\n",
        "        total += labels.size(0)\n",
        "        correct += (predicted == labels).sum().item()\n",
        "print(f'Accuracy on test set: {100 * correct // total} %')"
      ],
      "metadata": {
        "id": "cNNjEs9ICxZM",
        "colab": {
          "base_uri": "https://localhost:8080/"
        },
        "outputId": "530697ac-5a41-4b24-be37-76234bebab89"
      },
      "execution_count": 11,
      "outputs": [
        {
          "output_type": "stream",
          "name": "stdout",
          "text": [
            "Accuracy on test set: 91 %\n"
          ]
        }
      ]
    },
    {
      "cell_type": "code",
      "source": [
        "correct, total = 0, 0\n",
        "\n",
        "with torch.no_grad():\n",
        "    for data in test_loader:\n",
        "        images, labels = data\n",
        "        outputs = model_ft(images)\n",
        "        _, predicted = torch.max(outputs.data, 1)\n",
        "        total += labels.size(0)\n",
        "        correct += (predicted == labels).sum().item()\n",
        "print(f'Accuracy on test set: {100 * correct / total} %')"
      ],
      "metadata": {
        "colab": {
          "base_uri": "https://localhost:8080/"
        },
        "id": "NkmNF57uqxLp",
        "outputId": "fda649d4-af94-41bf-934a-86b5aae66ef9"
      },
      "execution_count": 12,
      "outputs": [
        {
          "output_type": "stream",
          "name": "stdout",
          "text": [
            "Accuracy on test set: 91.18589743589743 %\n"
          ]
        }
      ]
    }
  ]
}