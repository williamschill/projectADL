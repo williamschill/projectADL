{
  "nbformat": 4,
  "nbformat_minor": 0,
  "metadata": {
    "colab": {
      "provenance": [],
      "gpuType": "T4"
    },
    "kernelspec": {
      "name": "python3",
      "display_name": "Python 3"
    },
    "language_info": {
      "name": "python"
    },
    "accelerator": "GPU",
    "gpuClass": "standard"
  },
  "cells": [
    {
      "cell_type": "code",
      "execution_count": 1,
      "metadata": {
        "id": "VLBu82YZsGoh"
      },
      "outputs": [],
      "source": [
        "import torch\n",
        "import numpy as np\n",
        "from matplotlib import pyplot as plt\n",
        "import torchvision\n",
        "import torch\n",
        "from torchvision.datasets import ImageFolder\n",
        "from torch.utils.data import DataLoader\n",
        "\n",
        "\n",
        "import torch\n",
        "import torch.nn as nn\n",
        "import torch.nn.functional as F\n",
        "import torch.optim as optim\n",
        "import torchvision.models as models\n",
        "import os\n",
        "from sklearn.metrics import confusion_matrix\n",
        "import matplotlib.pyplot as plt\n",
        "\n",
        "import time\n",
        "import os\n",
        "import copy"
      ]
    },
    {
      "cell_type": "code",
      "source": [
        "from google.colab import drive\n",
        "drive.mount('/content/drive')"
      ],
      "metadata": {
        "colab": {
          "base_uri": "https://localhost:8080/"
        },
        "id": "1E9Tf3q8sIqW",
        "outputId": "71f984be-f9c7-4adc-819d-dd4465ca748a"
      },
      "execution_count": 2,
      "outputs": [
        {
          "output_type": "stream",
          "name": "stdout",
          "text": [
            "Mounted at /content/drive\n"
          ]
        }
      ]
    },
    {
      "cell_type": "code",
      "source": [
        "path = '/content/drive/MyDrive/LTU (1)/ADL_share/Project/data'\n",
        "\n",
        "import torchvision.transforms as transforms\n",
        "\n",
        "transforms_train = transforms.Compose([\n",
        "    transforms.RandomResizedCrop(224),\n",
        "    transforms.RandomHorizontalFlip(),\n",
        "    transforms.ToTensor(),\n",
        "    transforms.Normalize(mean=[0.485, 0.456, 0.406], std=[0.229, 0.224, 0.225])\n",
        "])\n",
        "\n",
        "transforms_val = transforms.Compose([\n",
        "      transforms.Resize(256),\n",
        "      transforms.CenterCrop(224),\n",
        "      transforms.ToTensor(),\n",
        "      transforms.Normalize([0.485, 0.456, 0.406], [0.229, 0.224, 0.225])\n",
        "])\n",
        "\n",
        "train_dataset = ImageFolder(root=path+'/train', transform=transforms_train)\n",
        "val_dataset = ImageFolder(root=path+'/val', transform=transforms_val)\n",
        "test_dataset = ImageFolder(root=path+'/test', transform=transforms_val)\n",
        "\n",
        "train_loader = DataLoader(train_dataset, batch_size=8, shuffle=True)\n",
        "val_loader = DataLoader(val_dataset, batch_size=8, shuffle=True)\n",
        "test_loader = DataLoader(test_dataset, batch_size=8, shuffle=True)\n",
        "\n",
        "dataloaders = {\n",
        "    'train': train_loader,\n",
        "    'val': val_loader,\n",
        "    'test': test_loader\n",
        "}"
      ],
      "metadata": {
        "id": "ETBeF0QKsXo_"
      },
      "execution_count": 3,
      "outputs": []
    },
    {
      "cell_type": "code",
      "source": [
        "def train_model(model, dataloaders, criterion, optimizer, num_epochs, is_inception=False):\n",
        "    since = time.time()\n",
        "\n",
        "    val_acc_history = []\n",
        "\n",
        "    best_model_wts = copy.deepcopy(model.state_dict())\n",
        "    best_acc = 0.0\n",
        "\n",
        "    for epoch in range(num_epochs):\n",
        "        print('Epoch {}/{}'.format(epoch, num_epochs - 1))\n",
        "        print('-' * 10)\n",
        "\n",
        "        for phase in ['train', 'val']:\n",
        "            if phase == 'train':\n",
        "                model.train()\n",
        "            else:\n",
        "                model.eval()\n",
        "\n",
        "            running_loss = 0.0\n",
        "            running_corrects = 0\n",
        "\n",
        "            for inputs, labels in dataloaders[phase]:\n",
        "                inputs = inputs.to(device)\n",
        "                labels = labels.to(device)\n",
        "\n",
        "                optimizer.zero_grad()\n",
        "\n",
        "                with torch.set_grad_enabled(phase == 'train'):\n",
        "                    outputs = model(inputs)\n",
        "                    loss = criterion(outputs, labels)\n",
        "\n",
        "                    _, preds = torch.max(outputs, 1)\n",
        "\n",
        "                    if phase == 'train':\n",
        "                        loss.backward()\n",
        "                        optimizer.step()\n",
        "\n",
        "                running_loss += loss.item() * inputs.size(0)\n",
        "                running_corrects += torch.sum(preds == labels.data)\n",
        "\n",
        "            epoch_loss = running_loss / len(dataloaders[phase].dataset)\n",
        "            epoch_acc = running_corrects.double() / len(dataloaders[phase].dataset)\n",
        "\n",
        "            print('{} Loss: {:.4f} Acc: {:.4f}'.format(phase, epoch_loss, epoch_acc))\n",
        "\n",
        "            if phase == 'val' and epoch_acc > best_acc:\n",
        "                best_acc = epoch_acc\n",
        "                best_model_wts = copy.deepcopy(model.state_dict())\n",
        "            if phase == 'val':\n",
        "                val_acc_history.append(epoch_acc)\n",
        "\n",
        "        print()\n",
        "\n",
        "    time_elapsed = time.time() - since\n",
        "    print('Training complete in {:.0f}m {:.0f}s'.format(time_elapsed // 60, time_elapsed % 60))\n",
        "    print('Best val Acc: {:4f}'.format(best_acc))\n",
        "\n",
        "    model.load_state_dict(best_model_wts)\n",
        "    return model, val_acc_history"
      ],
      "metadata": {
        "id": "GNp58M10CT9t"
      },
      "execution_count": 4,
      "outputs": []
    },
    {
      "cell_type": "code",
      "source": [
        "num_classes = 2\n",
        "batch_size = 8\n",
        "\n",
        "feature_extract = False\n",
        "\n",
        "activation = nn.LeakyReLU(0.1)\n",
        "dropout = nn.Dropout(0.5)\n",
        "\n",
        "model_ft = models.alexnet(pretrained=True)\n",
        "num_ftrs = model_ft.classifier[6].in_features\n",
        "\n",
        "model_ft.classifier[6] = nn.Linear(num_ftrs,2)\n",
        "\n",
        "input_size = 224\n",
        "\n",
        "print(model_ft)"
      ],
      "metadata": {
        "colab": {
          "base_uri": "https://localhost:8080/"
        },
        "id": "aJ1EuthcCUqN",
        "outputId": "eae50443-9b91-4c2d-936e-df80c8186ff9"
      },
      "execution_count": 5,
      "outputs": [
        {
          "output_type": "stream",
          "name": "stderr",
          "text": [
            "/usr/local/lib/python3.10/dist-packages/torchvision/models/_utils.py:208: UserWarning: The parameter 'pretrained' is deprecated since 0.13 and may be removed in the future, please use 'weights' instead.\n",
            "  warnings.warn(\n",
            "/usr/local/lib/python3.10/dist-packages/torchvision/models/_utils.py:223: UserWarning: Arguments other than a weight enum or `None` for 'weights' are deprecated since 0.13 and may be removed in the future. The current behavior is equivalent to passing `weights=AlexNet_Weights.IMAGENET1K_V1`. You can also use `weights=AlexNet_Weights.DEFAULT` to get the most up-to-date weights.\n",
            "  warnings.warn(msg)\n",
            "Downloading: \"https://download.pytorch.org/models/alexnet-owt-7be5be79.pth\" to /root/.cache/torch/hub/checkpoints/alexnet-owt-7be5be79.pth\n",
            "100%|██████████| 233M/233M [00:03<00:00, 77.2MB/s]\n"
          ]
        },
        {
          "output_type": "stream",
          "name": "stdout",
          "text": [
            "AlexNet(\n",
            "  (features): Sequential(\n",
            "    (0): Conv2d(3, 64, kernel_size=(11, 11), stride=(4, 4), padding=(2, 2))\n",
            "    (1): ReLU(inplace=True)\n",
            "    (2): MaxPool2d(kernel_size=3, stride=2, padding=0, dilation=1, ceil_mode=False)\n",
            "    (3): Conv2d(64, 192, kernel_size=(5, 5), stride=(1, 1), padding=(2, 2))\n",
            "    (4): ReLU(inplace=True)\n",
            "    (5): MaxPool2d(kernel_size=3, stride=2, padding=0, dilation=1, ceil_mode=False)\n",
            "    (6): Conv2d(192, 384, kernel_size=(3, 3), stride=(1, 1), padding=(1, 1))\n",
            "    (7): ReLU(inplace=True)\n",
            "    (8): Conv2d(384, 256, kernel_size=(3, 3), stride=(1, 1), padding=(1, 1))\n",
            "    (9): ReLU(inplace=True)\n",
            "    (10): Conv2d(256, 256, kernel_size=(3, 3), stride=(1, 1), padding=(1, 1))\n",
            "    (11): ReLU(inplace=True)\n",
            "    (12): MaxPool2d(kernel_size=3, stride=2, padding=0, dilation=1, ceil_mode=False)\n",
            "  )\n",
            "  (avgpool): AdaptiveAvgPool2d(output_size=(6, 6))\n",
            "  (classifier): Sequential(\n",
            "    (0): Dropout(p=0.5, inplace=False)\n",
            "    (1): Linear(in_features=9216, out_features=4096, bias=True)\n",
            "    (2): ReLU(inplace=True)\n",
            "    (3): Dropout(p=0.5, inplace=False)\n",
            "    (4): Linear(in_features=4096, out_features=4096, bias=True)\n",
            "    (5): ReLU(inplace=True)\n",
            "    (6): Linear(in_features=4096, out_features=2, bias=True)\n",
            "  )\n",
            ")\n"
          ]
        }
      ]
    },
    {
      "cell_type": "code",
      "source": [
        "device = torch.device(\"cuda:0\" if torch.cuda.is_available() else \"cpu\")\n",
        "\n",
        "model_ft = model_ft.to(device)\n",
        "\n",
        "params_to_update = model_ft.parameters()\n",
        "print(\"Params to learn:\")\n",
        "if feature_extract:\n",
        "    params_to_update = []\n",
        "    for name,param in model_ft.named_parameters():\n",
        "        if param.requires_grad == True:\n",
        "            params_to_update.append(param)\n",
        "            print(\"\\t\",name)\n",
        "else:\n",
        "    for name,param in model_ft.named_parameters():\n",
        "        if param.requires_grad == True:\n",
        "            print(\"\\t\",name)\n",
        "\n",
        "optimizer_ft = optim.Adam(params_to_update, lr=0.0001)"
      ],
      "metadata": {
        "colab": {
          "base_uri": "https://localhost:8080/"
        },
        "id": "ZOeqN1OwCW5p",
        "outputId": "baea1455-7204-4381-c520-19dda0e6e0e6"
      },
      "execution_count": 6,
      "outputs": [
        {
          "output_type": "stream",
          "name": "stdout",
          "text": [
            "Params to learn:\n",
            "\t features.0.weight\n",
            "\t features.0.bias\n",
            "\t features.3.weight\n",
            "\t features.3.bias\n",
            "\t features.6.weight\n",
            "\t features.6.bias\n",
            "\t features.8.weight\n",
            "\t features.8.bias\n",
            "\t features.10.weight\n",
            "\t features.10.bias\n",
            "\t classifier.1.weight\n",
            "\t classifier.1.bias\n",
            "\t classifier.4.weight\n",
            "\t classifier.4.bias\n",
            "\t classifier.6.weight\n",
            "\t classifier.6.bias\n"
          ]
        }
      ]
    },
    {
      "cell_type": "code",
      "source": [
        "criterion = nn.CrossEntropyLoss()\n",
        "num_epochs = 30\n",
        "\n",
        "model_ft, hist = train_model(model_ft,\n",
        "                             dataloaders,\n",
        "                             criterion,\n",
        "                             optimizer_ft,\n",
        "                             num_epochs=num_epochs)"
      ],
      "metadata": {
        "colab": {
          "base_uri": "https://localhost:8080/"
        },
        "id": "AexZtZN4Cqpf",
        "outputId": "05718b18-7dd3-4014-de83-f52073c06b31"
      },
      "execution_count": 7,
      "outputs": [
        {
          "output_type": "stream",
          "name": "stdout",
          "text": [
            "Epoch 0/29\n",
            "----------\n",
            "train Loss: 0.3288 Acc: 0.8606\n",
            "val Loss: 0.2969 Acc: 0.8935\n",
            "\n",
            "Epoch 1/29\n",
            "----------\n",
            "train Loss: 0.2536 Acc: 0.8933\n",
            "val Loss: 0.1648 Acc: 0.9259\n",
            "\n",
            "Epoch 2/29\n",
            "----------\n",
            "train Loss: 0.2285 Acc: 0.9105\n",
            "val Loss: 0.2322 Acc: 0.9398\n",
            "\n",
            "Epoch 3/29\n",
            "----------\n",
            "train Loss: 0.2120 Acc: 0.9143\n",
            "val Loss: 0.1704 Acc: 0.9398\n",
            "\n",
            "Epoch 4/29\n",
            "----------\n",
            "train Loss: 0.1964 Acc: 0.9195\n",
            "val Loss: 0.1684 Acc: 0.9352\n",
            "\n",
            "Epoch 5/29\n",
            "----------\n",
            "train Loss: 0.1831 Acc: 0.9308\n",
            "val Loss: 0.1807 Acc: 0.9213\n",
            "\n",
            "Epoch 6/29\n",
            "----------\n",
            "train Loss: 0.1777 Acc: 0.9288\n",
            "val Loss: 0.2455 Acc: 0.9259\n",
            "\n",
            "Epoch 7/29\n",
            "----------\n",
            "train Loss: 0.1788 Acc: 0.9348\n",
            "val Loss: 0.1878 Acc: 0.9398\n",
            "\n",
            "Epoch 8/29\n",
            "----------\n",
            "train Loss: 0.1796 Acc: 0.9318\n",
            "val Loss: 0.1793 Acc: 0.9213\n",
            "\n",
            "Epoch 9/29\n",
            "----------\n",
            "train Loss: 0.1647 Acc: 0.9362\n",
            "val Loss: 0.1687 Acc: 0.9398\n",
            "\n",
            "Epoch 10/29\n",
            "----------\n",
            "train Loss: 0.1612 Acc: 0.9398\n",
            "val Loss: 0.1769 Acc: 0.9491\n",
            "\n",
            "Epoch 11/29\n",
            "----------\n",
            "train Loss: 0.1518 Acc: 0.9430\n",
            "val Loss: 0.1474 Acc: 0.9491\n",
            "\n",
            "Epoch 12/29\n",
            "----------\n",
            "train Loss: 0.1601 Acc: 0.9408\n",
            "val Loss: 0.1549 Acc: 0.9306\n",
            "\n",
            "Epoch 13/29\n",
            "----------\n",
            "train Loss: 0.1654 Acc: 0.9396\n",
            "val Loss: 0.1977 Acc: 0.9352\n",
            "\n",
            "Epoch 14/29\n",
            "----------\n",
            "train Loss: 0.1577 Acc: 0.9416\n",
            "val Loss: 0.1311 Acc: 0.9398\n",
            "\n",
            "Epoch 15/29\n",
            "----------\n",
            "train Loss: 0.1560 Acc: 0.9438\n",
            "val Loss: 0.1385 Acc: 0.9398\n",
            "\n",
            "Epoch 16/29\n",
            "----------\n",
            "train Loss: 0.1504 Acc: 0.9428\n",
            "val Loss: 0.1568 Acc: 0.9537\n",
            "\n",
            "Epoch 17/29\n",
            "----------\n",
            "train Loss: 0.1512 Acc: 0.9488\n",
            "val Loss: 0.1473 Acc: 0.9398\n",
            "\n",
            "Epoch 18/29\n",
            "----------\n",
            "train Loss: 0.1508 Acc: 0.9468\n",
            "val Loss: 0.1265 Acc: 0.9491\n",
            "\n",
            "Epoch 19/29\n",
            "----------\n",
            "train Loss: 0.1448 Acc: 0.9476\n",
            "val Loss: 0.1365 Acc: 0.9398\n",
            "\n",
            "Epoch 20/29\n",
            "----------\n",
            "train Loss: 0.1518 Acc: 0.9440\n",
            "val Loss: 0.1025 Acc: 0.9722\n",
            "\n",
            "Epoch 21/29\n",
            "----------\n",
            "train Loss: 0.1358 Acc: 0.9520\n",
            "val Loss: 0.1380 Acc: 0.9398\n",
            "\n",
            "Epoch 22/29\n",
            "----------\n",
            "train Loss: 0.1355 Acc: 0.9470\n",
            "val Loss: 0.1206 Acc: 0.9491\n",
            "\n",
            "Epoch 23/29\n",
            "----------\n",
            "train Loss: 0.1356 Acc: 0.9502\n",
            "val Loss: 0.1197 Acc: 0.9537\n",
            "\n",
            "Epoch 24/29\n",
            "----------\n",
            "train Loss: 0.1339 Acc: 0.9524\n",
            "val Loss: 0.1537 Acc: 0.9537\n",
            "\n",
            "Epoch 25/29\n",
            "----------\n",
            "train Loss: 0.1298 Acc: 0.9522\n",
            "val Loss: 0.1380 Acc: 0.9444\n",
            "\n",
            "Epoch 26/29\n",
            "----------\n",
            "train Loss: 0.1344 Acc: 0.9530\n",
            "val Loss: 0.1287 Acc: 0.9537\n",
            "\n",
            "Epoch 27/29\n",
            "----------\n",
            "train Loss: 0.1277 Acc: 0.9526\n",
            "val Loss: 0.1425 Acc: 0.9537\n",
            "\n",
            "Epoch 28/29\n",
            "----------\n",
            "train Loss: 0.1377 Acc: 0.9470\n",
            "val Loss: 0.1331 Acc: 0.9491\n",
            "\n",
            "Epoch 29/29\n",
            "----------\n",
            "train Loss: 0.1252 Acc: 0.9561\n",
            "val Loss: 0.1300 Acc: 0.9491\n",
            "\n",
            "Training complete in 79m 51s\n",
            "Best val Acc: 0.972222\n"
          ]
        }
      ]
    },
    {
      "cell_type": "code",
      "source": [
        "torch.save(model_ft.state_dict(), './alexnet_finetuned2.pth')"
      ],
      "metadata": {
        "id": "Y8R85DRmCul7"
      },
      "execution_count": 8,
      "outputs": []
    },
    {
      "cell_type": "code",
      "source": [
        "model_ft = models.alexnet(pretrained=True)\n",
        "num_ftrs = model_ft.classifier[6].in_features\n",
        "\n",
        "\n",
        "model_ft.classifier[6] = nn.Linear(num_ftrs,2)\n",
        "input_size = 224\n",
        "\n",
        "model_ft.load_state_dict(torch.load('./alexnet_finetuned2.pth')) "
      ],
      "metadata": {
        "id": "17vYf0o9CvVB",
        "colab": {
          "base_uri": "https://localhost:8080/"
        },
        "outputId": "b7c32681-aab4-4ba7-c223-59a4ad0b802b"
      },
      "execution_count": 10,
      "outputs": [
        {
          "output_type": "execute_result",
          "data": {
            "text/plain": [
              "<All keys matched successfully>"
            ]
          },
          "metadata": {},
          "execution_count": 10
        }
      ]
    },
    {
      "cell_type": "code",
      "source": [
        "fhist = []\n",
        "\n",
        "fhist = [h.cpu().numpy() for h in hist]\n",
        "\n",
        "plt.xlabel(\"Training Epochs\")\n",
        "plt.ylabel(\"Validation Accuracy\")\n",
        "plt.plot(range(1,num_epochs+1),fhist,label=\"Fine Tuning\")\n",
        "plt.ylim((0,1.))\n",
        "plt.xticks(np.arange(0, num_epochs+1, 5.0))\n",
        "plt.legend()\n",
        "plt.show()"
      ],
      "metadata": {
        "id": "Wg7uJYbouXl9",
        "colab": {
          "base_uri": "https://localhost:8080/",
          "height": 455
        },
        "outputId": "33500a23-fe6f-43e1-a595-f007e403afff"
      },
      "execution_count": 12,
      "outputs": [
        {
          "output_type": "display_data",
          "data": {
            "text/plain": [
              "<Figure size 640x480 with 1 Axes>"
            ],
            "image/png": "[encoded data removed]"
          },
          "metadata": {}
        }
      ]
    },
    {
      "cell_type": "code",
      "source": [
        "correct, total = 0, 0\n",
        "\n",
        "with torch.no_grad():\n",
        "    for data in test_loader:\n",
        "        images, labels = data\n",
        "        outputs = model_ft(images)\n",
        "        _, predicted = torch.max(outputs.data, 1)\n",
        "        total += labels.size(0)\n",
        "        correct += (predicted == labels).sum().item()\n",
        "print(f'Accuracy on test set: {100 * correct // total} %')"
      ],
      "metadata": {
        "id": "cNNjEs9ICxZM",
        "colab": {
          "base_uri": "https://localhost:8080/"
        },
        "outputId": "c5c88b44-918c-4f89-8983-cca28201fb47"
      },
      "execution_count": 11,
      "outputs": [
        {
          "output_type": "stream",
          "name": "stdout",
          "text": [
            "Accuracy on test set: 94 %\n"
          ]
        }
      ]
    },
    {
      "cell_type": "code",
      "source": [
        "correct, total = 0, 0\n",
        "\n",
        "with torch.no_grad():\n",
        "    for data in test_loader:\n",
        "        images, labels = data\n",
        "        outputs = model_ft(images)\n",
        "        _, predicted = torch.max(outputs.data, 1)\n",
        "        total += labels.size(0)\n",
        "        correct += (predicted == labels).sum().item()\n",
        "print(f'Accuracy on test set: {100 * correct / total} %')"
      ],
      "metadata": {
        "colab": {
          "base_uri": "https://localhost:8080/"
        },
        "id": "ecDHUBgVqgrF",
        "outputId": "98e6e9f1-18ae-4e93-ec19-ee98dad2414d"
      },
      "execution_count": 13,
      "outputs": [
        {
          "output_type": "stream",
          "name": "stdout",
          "text": [
            "Accuracy on test set: 94.87179487179488 %\n"
          ]
        }
      ]
    }
  ]
}